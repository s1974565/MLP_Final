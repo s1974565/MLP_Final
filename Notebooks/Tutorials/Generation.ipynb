{
 "cells": [
  {
   "cell_type": "code",
   "execution_count": 1,
   "id": "bfb240fc",
   "metadata": {},
   "outputs": [],
   "source": [
    "import os\n",
    "os.environ[\"HF_ENDPOINT\"] = \"https://huggingface.co\"\n",
    "from transformers import pipeline\n",
    "from transformers import AutoTokenizer, AutoModelForCausalLM\n",
    "import re\n",
    "from typing import Pattern\n",
    "import torch\n",
    "from pygments import highlight\n",
    "from pygments.formatters import Terminal256Formatter\n",
    "from pygments.lexers import PythonLexer\n",
    "\n",
    "tokenizer = AutoTokenizer.from_pretrained(\"YurtsAI/yurts-python-code-gen-30-sparse\")\n",
    "model = AutoModelForCausalLM.from_pretrained(\"YurtsAI/yurts-python-code-gen-30-sparse\")"
   ]
  },
  {
   "cell_type": "code",
   "execution_count": 2,
   "id": "b917966a",
   "metadata": {},
   "outputs": [],
   "source": [
    "# Affix the pad token ID\n",
    "PAD_TOKEN_ID = 50256"
   ]
  },
  {
   "cell_type": "code",
   "execution_count": 3,
   "id": "b720c77b",
   "metadata": {},
   "outputs": [],
   "source": [
    "# Load tokeniser and model\n",
    "tokenizer = AutoTokenizer.from_pretrained(\"YurtsAI/yurts-python-code-gen-30-sparse\")\n",
    "tokenizer.padding_side = \"left\"\n",
    "tokenizer.pad_token = PAD_TOKEN_ID\n",
    "model = AutoModelForCausalLM.from_pretrained(\"YurtsAI/yurts-python-code-gen-30-sparse\").eval()"
   ]
  },
  {
   "cell_type": "code",
   "execution_count": 4,
   "id": "9c7d471d",
   "metadata": {},
   "outputs": [],
   "source": [
    "def run_single_inference(tokenizer: AutoTokenizer, model: AutoModelForCausalLM, prompt: str, max_output_token_len: int = 128,\n",
    "                         max_prompt_token_length: int = 2048, top_p: float = 0.95, temp: float = 0.2, batch_size: int = 1,\n",
    "                         device: str = \"cuda\") -> str:\n",
    "    \"\"\"Runs a single inference and retrieves the decoded results.\"\"\"\n",
    "    device = torch.device(device)\n",
    "    input_ids = tokenizer(prompt, truncation=True, padding=True, max_length=max_prompt_token_length, \n",
    "                          return_tensors=\"pt\").input_ids\n",
    "    input_ids_len = input_ids.shape[1]\n",
    "\n",
    "    with torch.no_grad():\n",
    "        input_ids = input_ids.to()\n",
    "        tokens = model.generate(input_ids, do_sample=True, num_return_sequences=batch_size, temperature=temp,\n",
    "                                max_length=input_ids_len + max_output_token_len, top_p=top_p, pad_token_id=PAD_TOKEN_ID,\n",
    "                                use_cache=True)\n",
    "        text = tokenizer.batch_decode(tokens[:, input_ids_len:, ...])\n",
    "    return text"
   ]
  },
  {
   "cell_type": "code",
   "execution_count": 5,
   "id": "dc09e024",
   "metadata": {},
   "outputs": [],
   "source": [
    "TERMINALS = re.compile(r\"<\\|endoftext\\|>\", re.MULTILINE)\n",
    "FUNCTION_DEFS = re.compile(r\"(^.*def .*)\", re.MULTILINE)\n",
    "CLASS_DEFS = re.compile(r\"(^.*class .*)\", re.MULTILINE)\n",
    "COMMENTS = re.compile(r\"(^\\s*#.*)\", re.MULTILINE)\n",
    "\n",
    "\n",
    "def find_repeats_and_trim(pattern: Pattern, string: str) -> str:\n",
    "    \"\"\"For the given pattern, find all group matches and trim anything after\n",
    "    the first occurence of a repeat.\n",
    "    \"\"\"\n",
    "    repeats = [\n",
    "        (match.group(), match.end()) for match in pattern.finditer(string)\n",
    "    ]\n",
    "    print(repeats)\n",
    "    if len(repeats) > 1:\n",
    "        for f_i, f_j in zip(repeats, repeats[1:]):\n",
    "            if (\n",
    "                f_i[0] == f_j[0]\n",
    "            ):  # if text is the same - we have a consecutive, repeating patterns\n",
    "                string = string[: f_i[1]]\n",
    "                break\n",
    "    return string\n",
    "\n",
    "def format_output(prompt: str, output: str) -> str:\n",
    "    \"\"\"Given the prompt and the output, join them and trim any repeating\n",
    "    patterns as well as any terminals.\n",
    "    \"\"\"\n",
    "    code_gen = prompt + output\n",
    "    for pattern in [CLASS_DEFS, FUNCTION_DEFS, COMMENTS]:\n",
    "        code_gen = find_repeats_and_trim(pattern, code_gen)\n",
    "\n",
    "    first_terminal_match = TERMINALS.search(code_gen)\n",
    "    if first_terminal_match is not None:\n",
    "        return code_gen[first_terminal_match.start()]\n",
    "    return code_gen"
   ]
  },
  {
   "cell_type": "code",
   "execution_count": null,
   "id": "98eb6326",
   "metadata": {},
   "outputs": [],
   "source": [
    "prompt = \"def hello_world():\"\n",
    "max_output_token_len = 50"
   ]
  },
  {
   "cell_type": "code",
   "execution_count": 17,
   "id": "832096b3",
   "metadata": {},
   "outputs": [
    {
     "name": "stdout",
     "output_type": "stream",
     "text": [
      "\u001b[38;5;28;01mdef\u001b[39;00m \u001b[38;5;21mhello_world\u001b[39m():\n",
      "    \u001b[38;5;28mprint\u001b[39m(\u001b[38;5;124m\"\u001b[39m\u001b[38;5;124mHello World\u001b[39m\u001b[38;5;124m\"\u001b[39m)\n",
      "\n",
      "hello_world()\n",
      "\n",
      "\u001b[38;5;66;03m# A function that takes a string and returns a string with the first letter of the string\u001b[39;00m\n",
      "\u001b[38;5;28;01mdef\u001b[39;00m \u001b[38;5;21mfirst_letter\u001b[39m(string):\n",
      "    \u001b[38;5;28;01mreturn\u001b[39;00m string[\u001b[38;5;241m0\u001b[39m]\n"
     ]
    }
   ],
   "source": [
    "raw_output = run_single_inference(tokenizer, model, prompt, max_output_token_len=max_output_token_len).pop()\n",
    "# Print raw output\n",
    "print(highlight(prompt + raw_output, PythonLexer(), Terminal256Formatter()), end=\"\")"
   ]
  },
  {
   "cell_type": "code",
   "execution_count": 20,
   "id": "e6259222",
   "metadata": {},
   "outputs": [
    {
     "name": "stdout",
     "output_type": "stream",
     "text": [
      "[]\n",
      "[('def hello_world():', 18), ('def first_letter(string):', 175)]\n",
      "[('\\n# A function that takes a string and returns a string with the first letter of the string', 149)]\n"
     ]
    }
   ],
   "source": [
    "final_output = format_output(prompt, raw_output)"
   ]
  },
  {
   "cell_type": "code",
   "execution_count": 21,
   "id": "a50c9d64",
   "metadata": {},
   "outputs": [
    {
     "name": "stdout",
     "output_type": "stream",
     "text": [
      "\u001b[38;5;28;01mdef\u001b[39;00m \u001b[38;5;21mhello_world\u001b[39m():\n",
      "    \u001b[38;5;28mprint\u001b[39m(\u001b[38;5;124m\"\u001b[39m\u001b[38;5;124mHello World\u001b[39m\u001b[38;5;124m\"\u001b[39m)\n",
      "\n",
      "hello_world()\n",
      "\n",
      "\u001b[38;5;66;03m# A function that takes a string and returns a string with the first letter of the string\u001b[39;00m\n",
      "\u001b[38;5;28;01mdef\u001b[39;00m \u001b[38;5;21mfirst_letter\u001b[39m(string):\n",
      "    \u001b[38;5;28;01mreturn\u001b[39;00m string[\u001b[38;5;241m0\u001b[39m]\n"
     ]
    }
   ],
   "source": [
    "print(highlight(final_output, PythonLexer(), Terminal256Formatter()), end=\"\")"
   ]
  },
  {
   "cell_type": "code",
   "execution_count": 22,
   "id": "d0245a78",
   "metadata": {},
   "outputs": [
    {
     "name": "stdout",
     "output_type": "stream",
     "text": [
      "Hello World\n"
     ]
    }
   ],
   "source": [
    "def hello_world():\n",
    "    print(\"Hello World\")\n",
    "\n",
    "hello_world()"
   ]
  },
  {
   "cell_type": "markdown",
   "id": "29e932f9",
   "metadata": {},
   "source": [
    "Testing different prompts"
   ]
  },
  {
   "cell_type": "code",
   "execution_count": 33,
   "id": "a8667c41",
   "metadata": {},
   "outputs": [],
   "source": [
    "# Generating with the default parameters\n",
    "def tester(prompt, max_output_token_len=128):\n",
    "    raw_output = run_single_inference(tokenizer, model, prompt, max_output_token_len=max_output_token_len).pop()\n",
    "    final_output = format_output(prompt, raw_output)\n",
    "    print(highlight(final_output, PythonLexer(), Terminal256Formatter()), end=\"\")"
   ]
  },
  {
   "cell_type": "code",
   "execution_count": 29,
   "id": "33444ff6",
   "metadata": {
    "scrolled": true
   },
   "outputs": [
    {
     "name": "stdout",
     "output_type": "stream",
     "text": [
      "[]\n",
      "[('def find_mean(a_list):', 22), ('def find_median(a_list):', 295)]\n",
      "[]\n",
      "\u001b[38;5;28;01mdef\u001b[39;00m \u001b[38;5;21mfind_mean\u001b[39m(a_list):\n",
      "    \u001b[38;5;124;03m\"\"\"\u001b[39;00m\n",
      "\u001b[38;5;124;03m    Find the mean of a list of numbers.\u001b[39;00m\n",
      "\n",
      "\u001b[38;5;124;03m    Parameters\u001b[39;00m\n",
      "\u001b[38;5;124;03m    ----------\u001b[39;00m\n",
      "\u001b[38;5;124;03m    a_list : list\u001b[39;00m\n",
      "\u001b[38;5;124;03m        A list of numbers.\u001b[39;00m\n",
      "\n",
      "\u001b[38;5;124;03m    Returns\u001b[39;00m\n",
      "\u001b[38;5;124;03m    -------\u001b[39;00m\n",
      "\u001b[38;5;124;03m    float\u001b[39;00m\n",
      "\u001b[38;5;124;03m        The mean of the list of numbers.\u001b[39;00m\n",
      "\n",
      "\u001b[38;5;124;03m    \"\"\"\u001b[39;00m\n",
      "    \u001b[38;5;28;01mreturn\u001b[39;00m \u001b[38;5;28msum\u001b[39m(a_list) \u001b[38;5;241m/\u001b[39m \u001b[38;5;28mlen\u001b[39m(a_list)\n",
      "\n",
      "\n",
      "\u001b[38;5;28;01mdef\u001b[39;00m \u001b[38;5;21mfind_median\u001b[39m(a_list):\n",
      "    \u001b[38;5;124m\"\"\"\u001b[39m\n",
      "\u001b[38;5;124m    Find the median of a list of numbers.\u001b[39m\n",
      "\n",
      "\u001b[38;5;124m    Parameters\u001b[39m\n",
      "\u001b[38;5;124m    ----------\u001b[39m\n",
      "\u001b[38;5;124m    a_list : list\u001b[39m\n",
      "\u001b[38;5;124m        A list of numbers.\u001b[39m\n",
      "\n",
      "\u001b[38;5;124m    Returns\u001b[39m\n",
      "\u001b[38;5;124m    -------\u001b[39m\n",
      "\u001b[38;5;124m    float\u001b[39m\n"
     ]
    }
   ],
   "source": [
    "prompt_1 = \"def find_mean(a_list):\"\n",
    "tester(prompt_1)"
   ]
  },
  {
   "cell_type": "code",
   "execution_count": 35,
   "id": "95e0d350",
   "metadata": {},
   "outputs": [
    {
     "name": "stdout",
     "output_type": "stream",
     "text": [
      "[]\n",
      "[('def most_frequent(a_list):', 96), ('def most_frequent_2(a_list):', 692)]\n",
      "[('\\n# This function calculates the most frequent entry in the given list', 69), ('    # Initialize the most frequent entry', 137), ('    # Iterate through the list', 196), ('        # If the entry is the most frequent, update the most frequent entry', 305), ('        # If the entry is not the most frequent, update the most frequent entry', 475), ('    # Return the most frequent entry', 562), ('\\n# This function calculates the most frequent entry in the given list', 663), ('    # Initialize the most frequent entry', 733), ('    # Iterate through the list', 792)]\n",
      "\u001b[38;5;66;03m# This function calculates the most frequent entry in the given list\u001b[39;00m\n",
      "\u001b[38;5;28;01mdef\u001b[39;00m \u001b[38;5;21mmost_frequent\u001b[39m(a_list):\n",
      "    \u001b[38;5;66;03m# Initialize the most frequent entry\u001b[39;00m\n",
      "    most_frequent_entry \u001b[38;5;241m=\u001b[39m \u001b[38;5;241m0\u001b[39m\n",
      "    \u001b[38;5;66;03m# Iterate through the list\u001b[39;00m\n",
      "    \u001b[38;5;28;01mfor\u001b[39;00m i \u001b[38;5;129;01min\u001b[39;00m \u001b[38;5;28mrange\u001b[39m(\u001b[38;5;28mlen\u001b[39m(a_list)):\n",
      "        \u001b[38;5;66;03m# If the entry is the most frequent, update the most frequent entry\u001b[39;00m\n",
      "        \u001b[38;5;28;01mif\u001b[39;00m a_list[i] \u001b[38;5;241m==\u001b[39m a_list[most_frequent_entry]:\n",
      "            most_frequent_entry \u001b[38;5;241m+\u001b[39m\u001b[38;5;241m=\u001b[39m \u001b[38;5;241m1\u001b[39m\n",
      "        \u001b[38;5;66;03m# If the entry is not the most frequent, update the most frequent entry\u001b[39;00m\n",
      "        \u001b[38;5;28;01melse\u001b[39;00m:\n",
      "            most_frequent_entry \u001b[38;5;241m=\u001b[39m i\n",
      "    \u001b[38;5;66;03m# Return the most frequent entry\u001b[39;00m\n",
      "    \u001b[38;5;28;01mreturn\u001b[39;00m most_frequent_entry\n",
      "\n",
      "\u001b[38;5;66;03m# This function calculates the most frequent entry in the given list\u001b[39;00m\n",
      "\u001b[38;5;28;01mdef\u001b[39;00m \u001b[38;5;21mmost_frequent_2\u001b[39m(a_list):\n",
      "    \u001b[38;5;66;03m# Initialize the most frequent entry\u001b[39;00m\n",
      "    most_frequent_entry \u001b[38;5;241m=\u001b[39m \u001b[38;5;241m0\u001b[39m\n",
      "    \u001b[38;5;66;03m# Iterate through the list\u001b[39;00m\n",
      "    \u001b[38;5;28;01mfor\u001b[39;00m i \u001b[38;5;129;01min\u001b[39;00m \u001b[38;5;28mrange\u001b[39m(\u001b[38;5;28mlen\u001b[39m(a_\n"
     ]
    }
   ],
   "source": [
    "prompt_2 = \"\"\"\n",
    "# This function calculates the most frequent entry in the given list\n",
    "def most_frequent(a_list):\n",
    "\"\"\"\n",
    "tester(prompt_2, 200)"
   ]
  },
  {
   "cell_type": "code",
   "execution_count": 36,
   "id": "d91c76a5",
   "metadata": {},
   "outputs": [],
   "source": [
    "def most_frequent(a_list):\n",
    "    # Initialize the most frequent entry\n",
    "    most_frequent_entry = 0\n",
    "    # Iterate through the list\n",
    "    for i in range(len(a_list)):\n",
    "        # If the entry is the most frequent, update the most frequent entry\n",
    "        if a_list[i] == a_list[most_frequent_entry]:\n",
    "            most_frequent_entry += 1\n",
    "        # If the entry is not the most frequent, update the most frequent entry\n",
    "        else:\n",
    "            most_frequent_entry = i\n",
    "    # Return the most frequent entry\n",
    "    return most_frequent_entry"
   ]
  },
  {
   "cell_type": "code",
   "execution_count": 38,
   "id": "e61b7805",
   "metadata": {},
   "outputs": [
    {
     "data": {
      "text/plain": [
       "9"
      ]
     },
     "execution_count": 38,
     "metadata": {},
     "output_type": "execute_result"
    }
   ],
   "source": [
    "test_list = [1, 1, 2, 2, 3, 3, 3, 4, 4]\n",
    "# It just returns the size of the given list\n",
    "most_frequent(test_list)"
   ]
  },
  {
   "cell_type": "code",
   "execution_count": 39,
   "id": "a624ea2c",
   "metadata": {},
   "outputs": [
    {
     "name": "stdout",
     "output_type": "stream",
     "text": [
      "[]\n",
      "[('def most_frequent(a_list):', 27), ('def get_frequent_numbers(a_list):', 198), ('def get_frequent_numbers_2(a_list):', 364), ('def get_frequent_numbers_3(a_list):', 553)]\n",
      "[]\n",
      "\u001b[38;5;28;01mdef\u001b[39;00m \u001b[38;5;21mmost_frequent\u001b[39m(a_list):\n",
      "    \u001b[38;5;124;03m\"\"\"\u001b[39;00m\n",
      "\u001b[38;5;124;03m    :param a_list: list of numbers\u001b[39;00m\n",
      "\u001b[38;5;124;03m    :return: the most frequent number\u001b[39;00m\n",
      "\u001b[38;5;124;03m    \"\"\"\u001b[39;00m\n",
      "    \u001b[38;5;28;01mreturn\u001b[39;00m \u001b[38;5;28mmax\u001b[39m(\u001b[38;5;28mset\u001b[39m(a_list), key\u001b[38;5;241m=\u001b[39ma_list\u001b[38;5;241m.\u001b[39mcount)\n",
      "\n",
      "\n",
      "\u001b[38;5;28;01mdef\u001b[39;00m \u001b[38;5;21mget_frequent_numbers\u001b[39m(a_list):\n",
      "    \u001b[38;5;124;03m\"\"\"\u001b[39;00m\n",
      "\u001b[38;5;124;03m    :param a_list: list of numbers\u001b[39;00m\n",
      "\u001b[38;5;124;03m    :return: the list of frequent numbers\u001b[39;00m\n",
      "\u001b[38;5;124;03m    \"\"\"\u001b[39;00m\n",
      "    \u001b[38;5;28;01mreturn\u001b[39;00m [most_frequent(a_list)]\n",
      "\n",
      "\n",
      "\u001b[38;5;28;01mdef\u001b[39;00m \u001b[38;5;21mget_frequent_numbers_2\u001b[39m(a_list):\n",
      "    \u001b[38;5;124;03m\"\"\"\u001b[39;00m\n",
      "\u001b[38;5;124;03m    :param a_list: list of numbers\u001b[39;00m\n",
      "\u001b[38;5;124;03m    :return: the list of frequent numbers\u001b[39;00m\n",
      "\u001b[38;5;124;03m    \"\"\"\u001b[39;00m\n",
      "    \u001b[38;5;28;01mreturn\u001b[39;00m [most_frequent(a_list), most_frequent(a_list)]\n",
      "\n",
      "\n",
      "\u001b[38;5;28;01mdef\u001b[39;00m \u001b[38;5;21mget_frequent_numbers_3\u001b[39m(a_list):\n",
      "    \u001b[38;5;124m\"\"\"\u001b[39m\n",
      "\u001b[38;5;124m    :param a_list: list of numbers\u001b[39m\n",
      "\u001b[38;5;124m    :return\u001b[39m\n"
     ]
    }
   ],
   "source": [
    "# The same compared to the previous prompt, but without the comment\n",
    "prompt_3 = \"\"\"\n",
    "def most_frequent(a_list):\n",
    "\"\"\"\n",
    "tester(prompt_3, 200)"
   ]
  },
  {
   "cell_type": "code",
   "execution_count": 40,
   "id": "287c4d59",
   "metadata": {},
   "outputs": [
    {
     "data": {
      "text/plain": [
       "3"
      ]
     },
     "execution_count": 40,
     "metadata": {},
     "output_type": "execute_result"
    }
   ],
   "source": [
    "def most_frequent(a_list):\n",
    "    \"\"\"\n",
    "    :param a_list: list of numbers\n",
    "    :return: the most frequent number\n",
    "    \"\"\"\n",
    "    return max(set(a_list), key=a_list.count)\n",
    "\n",
    "\n",
    "def get_frequent_numbers(a_list):\n",
    "    \"\"\"\n",
    "    :param a_list: list of numbers\n",
    "    :return: the list of frequent numbers\n",
    "    \"\"\"\n",
    "    return [most_frequent(a_list)]\n",
    "\n",
    "most_frequent(test_list)"
   ]
  },
  {
   "cell_type": "code",
   "execution_count": null,
   "id": "0b594e06",
   "metadata": {},
   "outputs": [],
   "source": []
  }
 ],
 "metadata": {
  "kernelspec": {
   "display_name": "Python 3 (ipykernel)",
   "language": "python",
   "name": "python3"
  },
  "language_info": {
   "codemirror_mode": {
    "name": "ipython",
    "version": 3
   },
   "file_extension": ".py",
   "mimetype": "text/x-python",
   "name": "python",
   "nbconvert_exporter": "python",
   "pygments_lexer": "ipython3",
   "version": "3.10.8"
  }
 },
 "nbformat": 4,
 "nbformat_minor": 5
}
