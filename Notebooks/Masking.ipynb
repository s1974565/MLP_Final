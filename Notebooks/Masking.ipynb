{
 "cells": [
  {
   "cell_type": "code",
   "execution_count": 1,
   "id": "d628ed66",
   "metadata": {},
   "outputs": [],
   "source": [
    "import pickle\n",
    "import matplotlib.pyplot as plt\n",
    "import numpy as np\n",
    "from transformers import pipeline\n",
    "\n",
    "from transformers import AutoTokenizer, AutoModelForMaskedLM\n",
    "tokenizer = AutoTokenizer.from_pretrained(\"neulab/codebert-python\")\n",
    "model = AutoModelForMaskedLM.from_pretrained(\"neulab/codebert-python\")"
   ]
  },
  {
   "cell_type": "code",
   "execution_count": 2,
   "id": "af4148da",
   "metadata": {},
   "outputs": [],
   "source": [
    "# Model link: https://huggingface.co/neulab/codebert-python?text=def+more_frequent_entry%28%3Cmask%3E%29%3A\n",
    "unmasker = pipeline(\"fill-mask\", model=model, tokenizer=tokenizer)"
   ]
  },
  {
   "cell_type": "code",
   "execution_count": 3,
   "id": "8888219c",
   "metadata": {},
   "outputs": [],
   "source": [
    "def output_print(input_sequence, true_labels, top_k=2, model=unmasker, mask_token=\"<mask>\"):\n",
    "    mask_num = input_sequence.count(mask_token)\n",
    "    output = model(input_sequence, top_k=top_k)\n",
    "    if mask_num == 1:\n",
    "        print(\"-\" * 50)\n",
    "        print(f\"True label: {true_labels[0]}\")\n",
    "        print(\"\")\n",
    "        for candidate in output:\n",
    "            print(f\"Predicted_word: {candidate['token_str']}\")\n",
    "            print(f\"Probability: {round(candidate['score'], 3)}\")\n",
    "        print(\"-\" * 50)\n",
    "        print(\"\")\n",
    "        \n",
    "    else:\n",
    "        for index, word_prediction in enumerate(output):\n",
    "            print(\"-\" * 50)\n",
    "            print(f\"Mask number: {index}\")\n",
    "            print(f\"True label: {true_labels[index]}\")\n",
    "            print(\"\")\n",
    "            for candidate in word_prediction:\n",
    "                print(f\"Predicted_word: {candidate['token_str']}\")\n",
    "                print(f\"Probability: {round(candidate['score'], 3)}\")\n",
    "            print(\"-\" * 50)\n",
    "            print(\"\")"
   ]
  },
  {
   "cell_type": "code",
   "execution_count": 4,
   "id": "881f2f82",
   "metadata": {},
   "outputs": [],
   "source": [
    "code_snippet_1 = \"\"\"\n",
    "def <mask>(list):\n",
    "    max_value = float(\"inf\")\n",
    "    max_index = 0\n",
    "    for i in range(len(list)):\n",
    "        if max_value < list[i]:\n",
    "            max_value = list[i]\n",
    "            max_index = i\n",
    "    return list[max_index]\"\"\""
   ]
  },
  {
   "cell_type": "code",
   "execution_count": 5,
   "id": "0c37c28c",
   "metadata": {
    "scrolled": true
   },
   "outputs": [
    {
     "data": {
      "text/plain": [
       "[{'score': 0.7382919788360596,\n",
       "  'token': 19220,\n",
       "  'token_str': ' max',\n",
       "  'sequence': '\\ndef max(list):\\n    max_value = float(\"inf\")\\n    max_index = 0\\n    for i in range(len(list)):\\n        if max_value < list[i]:\\n            max_value = list[i]\\n            max_index = i\\n    return list[max_index]'},\n",
       " {'score': 0.15644575655460358,\n",
       "  'token': 5251,\n",
       "  'token_str': ' min',\n",
       "  'sequence': '\\ndef min(list):\\n    max_value = float(\"inf\")\\n    max_index = 0\\n    for i in range(len(list)):\\n        if max_value < list[i]:\\n            max_value = list[i]\\n            max_index = i\\n    return list[max_index]'},\n",
       " {'score': 0.029951967298984528,\n",
       "  'token': 4532,\n",
       "  'token_str': ' maximum',\n",
       "  'sequence': '\\ndef maximum(list):\\n    max_value = float(\"inf\")\\n    max_index = 0\\n    for i in range(len(list)):\\n        if max_value < list[i]:\\n            max_value = list[i]\\n            max_index = i\\n    return list[max_index]'},\n",
       " {'score': 0.0072595286183059216,\n",
       "  'token': 275,\n",
       "  'token_str': ' best',\n",
       "  'sequence': '\\ndef best(list):\\n    max_value = float(\"inf\")\\n    max_index = 0\\n    for i in range(len(list)):\\n        if max_value < list[i]:\\n            max_value = list[i]\\n            max_index = i\\n    return list[max_index]'},\n",
       " {'score': 0.006552232429385185,\n",
       "  'token': 1154,\n",
       "  'token_str': ' largest',\n",
       "  'sequence': '\\ndef largest(list):\\n    max_value = float(\"inf\")\\n    max_index = 0\\n    for i in range(len(list)):\\n        if max_value < list[i]:\\n            max_value = list[i]\\n            max_index = i\\n    return list[max_index]'}]"
      ]
     },
     "execution_count": 5,
     "metadata": {},
     "output_type": "execute_result"
    }
   ],
   "source": [
    "unmasker(code_snippet_1, top_k=5)"
   ]
  },
  {
   "cell_type": "code",
   "execution_count": 6,
   "id": "76605477",
   "metadata": {},
   "outputs": [],
   "source": [
    "code_snippet_2 = \"\"\"\n",
    "def <mask>(img):\n",
    "    plt.figure(figsize=(10, 10))\n",
    "    plt.imshow(img)\n",
    "    plt.tight_layout()\n",
    "    plt.savefig()\n",
    "\"\"\""
   ]
  },
  {
   "cell_type": "code",
   "execution_count": 7,
   "id": "772d3b87",
   "metadata": {},
   "outputs": [
    {
     "data": {
      "text/plain": [
       "[{'score': 0.6859515905380249,\n",
       "  'token': 311,\n",
       "  'token_str': ' show',\n",
       "  'sequence': '\\ndef show(img):\\n    plt.figure(figsize=(10, 10))\\n    plt.imshow(img)\\n    plt.tight_layout()\\n    plt.savefig()\\n'},\n",
       " {'score': 0.11137401312589645,\n",
       "  'token': 6197,\n",
       "  'token_str': ' plot',\n",
       "  'sequence': '\\ndef plot(img):\\n    plt.figure(figsize=(10, 10))\\n    plt.imshow(img)\\n    plt.tight_layout()\\n    plt.savefig()\\n'},\n",
       " {'score': 0.021623341366648674,\n",
       "  'token': 2451,\n",
       "  'token_str': ' draw',\n",
       "  'sequence': '\\ndef draw(img):\\n    plt.figure(figsize=(10, 10))\\n    plt.imshow(img)\\n    plt.tight_layout()\\n    plt.savefig()\\n'},\n",
       " {'score': 0.017904477193951607,\n",
       "  'token': 1296,\n",
       "  'token_str': ' test',\n",
       "  'sequence': '\\ndef test(img):\\n    plt.figure(figsize=(10, 10))\\n    plt.imshow(img)\\n    plt.tight_layout()\\n    plt.savefig()\\n'},\n",
       " {'score': 0.012548865750432014,\n",
       "  'token': 2274,\n",
       "  'token_str': ' image',\n",
       "  'sequence': '\\ndef image(img):\\n    plt.figure(figsize=(10, 10))\\n    plt.imshow(img)\\n    plt.tight_layout()\\n    plt.savefig()\\n'}]"
      ]
     },
     "execution_count": 7,
     "metadata": {},
     "output_type": "execute_result"
    }
   ],
   "source": [
    "unmasker(code_snippet_2, top_k=5)"
   ]
  },
  {
   "cell_type": "code",
   "execution_count": 8,
   "id": "795d21e7",
   "metadata": {},
   "outputs": [],
   "source": [
    "# Merging two lists into a single dictionary\n",
    "code_snippet_3 = \"\"\"\n",
    "def <mask>(key_list, value_list):\n",
    "    return dict(zip(keys_list, values_list))\n",
    "\"\"\""
   ]
  },
  {
   "cell_type": "code",
   "execution_count": 9,
   "id": "263a49b7",
   "metadata": {},
   "outputs": [
    {
     "data": {
      "text/plain": [
       "[{'score': 0.3016514480113983,\n",
       "  'token': 28700,\n",
       "  'token_str': ' dict',\n",
       "  'sequence': '\\ndef dict(key_list, value_list):\\n    return dict(zip(keys_list, values_list))\\n'},\n",
       " {'score': 0.08486815541982651,\n",
       "  'token': 5456,\n",
       "  'token_str': ' map',\n",
       "  'sequence': '\\ndef map(key_list, value_list):\\n    return dict(zip(keys_list, values_list))\\n'},\n",
       " {'score': 0.06300310790538788,\n",
       "  'token': 19388,\n",
       "  'token_str': ' merge',\n",
       "  'sequence': '\\ndef merge(key_list, value_list):\\n    return dict(zip(keys_list, values_list))\\n'},\n",
       " {'score': 0.05066296085715294,\n",
       "  'token': 146,\n",
       "  'token_str': ' make',\n",
       "  'sequence': '\\ndef make(key_list, value_list):\\n    return dict(zip(keys_list, values_list))\\n'},\n",
       " {'score': 0.033224646002054214,\n",
       "  'token': 2935,\n",
       "  'token_str': ' update',\n",
       "  'sequence': '\\ndef update(key_list, value_list):\\n    return dict(zip(keys_list, values_list))\\n'}]"
      ]
     },
     "execution_count": 9,
     "metadata": {},
     "output_type": "execute_result"
    }
   ],
   "source": [
    "unmasker(code_snippet_3, top_k=5)"
   ]
  },
  {
   "cell_type": "code",
   "execution_count": 10,
   "id": "69064e78",
   "metadata": {},
   "outputs": [],
   "source": [
    "# The same functionality compared to the previous one, but with a different implementation\n",
    "code_snippet_4 = \"\"\"\n",
    "def <mask>(key_list, value_list):\n",
    "    items_tuples = zip(keys_list, values_list) \n",
    "    merged_dict = dict()\n",
    "    for key, value in items_tuples: \n",
    "        if key in merged_dict: \n",
    "            pass\n",
    "        else: \n",
    "            merged_dict[key] = value\n",
    "            \n",
    "    return merged_dict\n",
    "\"\"\""
   ]
  },
  {
   "cell_type": "code",
   "execution_count": 11,
   "id": "64594799",
   "metadata": {},
   "outputs": [
    {
     "data": {
      "text/plain": [
       "[{'score': 0.8331116437911987,\n",
       "  'token': 19388,\n",
       "  'token_str': ' merge',\n",
       "  'sequence': '\\ndef merge(key_list, value_list):\\n    items_tuples = zip(keys_list, values_list) \\n    merged_dict = dict()\\n    for key, value in items_tuples: \\n        if key in merged_dict: \\n            pass\\n        else: \\n            merged_dict[key] = value\\n            \\n    return merged_dict\\n'},\n",
       " {'score': 0.018189143389463425,\n",
       "  'token': 2918,\n",
       "  'token_str': ' union',\n",
       "  'sequence': '\\ndef union(key_list, value_list):\\n    items_tuples = zip(keys_list, values_list) \\n    merged_dict = dict()\\n    for key, value in items_tuples: \\n        if key in merged_dict: \\n            pass\\n        else: \\n            merged_dict[key] = value\\n            \\n    return merged_dict\\n'},\n",
       " {'score': 0.017174458131194115,\n",
       "  'token': 1606,\n",
       "  'token_str': ' add',\n",
       "  'sequence': '\\ndef add(key_list, value_list):\\n    items_tuples = zip(keys_list, values_list) \\n    merged_dict = dict()\\n    for key, value in items_tuples: \\n        if key in merged_dict: \\n            pass\\n        else: \\n            merged_dict[key] = value\\n            \\n    return merged_dict\\n'},\n",
       " {'score': 0.01470036432147026,\n",
       "  'token': 9637,\n",
       "  'token_str': ' combine',\n",
       "  'sequence': '\\ndef combine(key_list, value_list):\\n    items_tuples = zip(keys_list, values_list) \\n    merged_dict = dict()\\n    for key, value in items_tuples: \\n        if key in merged_dict: \\n            pass\\n        else: \\n            merged_dict[key] = value\\n            \\n    return merged_dict\\n'},\n",
       " {'score': 0.012956131249666214,\n",
       "  'token': 2935,\n",
       "  'token_str': ' update',\n",
       "  'sequence': '\\ndef update(key_list, value_list):\\n    items_tuples = zip(keys_list, values_list) \\n    merged_dict = dict()\\n    for key, value in items_tuples: \\n        if key in merged_dict: \\n            pass\\n        else: \\n            merged_dict[key] = value\\n            \\n    return merged_dict\\n'}]"
      ]
     },
     "execution_count": 11,
     "metadata": {},
     "output_type": "execute_result"
    }
   ],
   "source": [
    "unmasker(code_snippet_4, top_k=5)"
   ]
  },
  {
   "cell_type": "code",
   "execution_count": 12,
   "id": "223e1260",
   "metadata": {},
   "outputs": [],
   "source": [
    "# The same code compared to the previous one, but with different variable names\n",
    "code_snippet_5 = \"\"\"\n",
    "def <mask>(list_1, list_2):\n",
    "    items_tuples = zip(keys_list, values_list) \n",
    "    final_dict = dict()\n",
    "    for key, value in items_tuples: \n",
    "        if key in final_dict: \n",
    "            pass\n",
    "        else: \n",
    "            final_dict[key] = value\n",
    "            \n",
    "    return final_dict\n",
    "\"\"\""
   ]
  },
  {
   "cell_type": "code",
   "execution_count": 13,
   "id": "3e86e86f",
   "metadata": {},
   "outputs": [
    {
     "data": {
      "text/plain": [
       "[{'score': 0.4490654766559601,\n",
       "  'token': 19388,\n",
       "  'token_str': ' merge',\n",
       "  'sequence': '\\ndef merge(list_1, list_2):\\n    items_tuples = zip(keys_list, values_list) \\n    final_dict = dict()\\n    for key, value in items_tuples: \\n        if key in final_dict: \\n            pass\\n        else: \\n            final_dict[key] = value\\n            \\n    return final_dict\\n'},\n",
       " {'score': 0.051676101982593536,\n",
       "  'token': 2918,\n",
       "  'token_str': ' union',\n",
       "  'sequence': '\\ndef union(list_1, list_2):\\n    items_tuples = zip(keys_list, values_list) \\n    final_dict = dict()\\n    for key, value in items_tuples: \\n        if key in final_dict: \\n            pass\\n        else: \\n            final_dict[key] = value\\n            \\n    return final_dict\\n'},\n",
       " {'score': 0.043209727853536606,\n",
       "  'token': 1606,\n",
       "  'token_str': ' add',\n",
       "  'sequence': '\\ndef add(list_1, list_2):\\n    items_tuples = zip(keys_list, values_list) \\n    final_dict = dict()\\n    for key, value in items_tuples: \\n        if key in final_dict: \\n            pass\\n        else: \\n            final_dict[key] = value\\n            \\n    return final_dict\\n'},\n",
       " {'score': 0.03798983618617058,\n",
       "  'token': 31654,\n",
       "  'token_str': ' intersect',\n",
       "  'sequence': '\\ndef intersect(list_1, list_2):\\n    items_tuples = zip(keys_list, values_list) \\n    final_dict = dict()\\n    for key, value in items_tuples: \\n        if key in final_dict: \\n            pass\\n        else: \\n            final_dict[key] = value\\n            \\n    return final_dict\\n'},\n",
       " {'score': 0.03653298690915108,\n",
       "  'token': 2935,\n",
       "  'token_str': ' update',\n",
       "  'sequence': '\\ndef update(list_1, list_2):\\n    items_tuples = zip(keys_list, values_list) \\n    final_dict = dict()\\n    for key, value in items_tuples: \\n        if key in final_dict: \\n            pass\\n        else: \\n            final_dict[key] = value\\n            \\n    return final_dict\\n'}]"
      ]
     },
     "execution_count": 13,
     "metadata": {},
     "output_type": "execute_result"
    }
   ],
   "source": [
    "unmasker(code_snippet_5, top_k=5)"
   ]
  },
  {
   "cell_type": "code",
   "execution_count": 14,
   "id": "679907c4",
   "metadata": {},
   "outputs": [],
   "source": [
    "# Linear regression for the given datasets, from the scikit learn website\n",
    "code_snippet_6 = \"\"\"\n",
    "def <mask>(X, y):\n",
    "    reg = LinearRegression().fit(X, y)\n",
    "    print(reg.score(X, y), reg.coef_)\n",
    "    return reg\n",
    "    \n",
    "def <mask>(X, model):\n",
    "    return model.predict(X)\n",
    "\"\"\""
   ]
  },
  {
   "cell_type": "code",
   "execution_count": 15,
   "id": "23e067ce",
   "metadata": {},
   "outputs": [
    {
     "data": {
      "text/plain": [
       "[[{'score': 0.5985538363456726,\n",
       "   'token': 2564,\n",
       "   'token_str': ' fit',\n",
       "   'sequence': '<s>\\ndef fit(X, y):\\n    reg = LinearRegression().fit(X, y)\\n    print(reg.score(X, y), reg.coef_)\\n    return reg\\n    \\ndef<mask>(X, model):\\n    return model.predict(X)\\n</s>'},\n",
       "  {'score': 0.13737018406391144,\n",
       "   'token': 2341,\n",
       "   'token_str': ' train',\n",
       "   'sequence': '<s>\\ndef train(X, y):\\n    reg = LinearRegression().fit(X, y)\\n    print(reg.score(X, y), reg.coef_)\\n    return reg\\n    \\ndef<mask>(X, model):\\n    return model.predict(X)\\n</s>'},\n",
       "  {'score': 0.020674511790275574,\n",
       "   'token': 1421,\n",
       "   'token_str': ' model',\n",
       "   'sequence': '<s>\\ndef model(X, y):\\n    reg = LinearRegression().fit(X, y)\\n    print(reg.score(X, y), reg.coef_)\\n    return reg\\n    \\ndef<mask>(X, model):\\n    return model.predict(X)\\n</s>'}],\n",
       " [{'score': 0.8229965567588806,\n",
       "   'token': 7006,\n",
       "   'token_str': ' predict',\n",
       "   'sequence': '<s>\\ndef<mask>(X, y):\\n    reg = LinearRegression().fit(X, y)\\n    print(reg.score(X, y), reg.coef_)\\n    return reg\\n    \\ndef predict(X, model):\\n    return model.predict(X)\\n</s>'},\n",
       "  {'score': 0.04237734153866768,\n",
       "   'token': 10516,\n",
       "   'token_str': ' evaluate',\n",
       "   'sequence': '<s>\\ndef<mask>(X, y):\\n    reg = LinearRegression().fit(X, y)\\n    print(reg.score(X, y), reg.coef_)\\n    return reg\\n    \\ndef evaluate(X, model):\\n    return model.predict(X)\\n</s>'},\n",
       "  {'score': 0.01911064051091671,\n",
       "   'token': 1471,\n",
       "   'token_str': ' score',\n",
       "   'sequence': '<s>\\ndef<mask>(X, y):\\n    reg = LinearRegression().fit(X, y)\\n    print(reg.score(X, y), reg.coef_)\\n    return reg\\n    \\ndef score(X, model):\\n    return model.predict(X)\\n</s>'}]]"
      ]
     },
     "execution_count": 15,
     "metadata": {},
     "output_type": "execute_result"
    }
   ],
   "source": [
    "unmasker(code_snippet_6, top_k=3)"
   ]
  },
  {
   "cell_type": "markdown",
   "id": "b437e0b5",
   "metadata": {},
   "source": [
    "Testing with codes from my project"
   ]
  },
  {
   "cell_type": "code",
   "execution_count": 16,
   "id": "e8bdfe9e",
   "metadata": {},
   "outputs": [],
   "source": [
    "code_plot = \"\"\"\n",
    "def <mask>(df, target_column_name, resample_minutes, colour=None, draw_plot=True, title=None, fill=True, label=None):\n",
    "    if draw_plot:\n",
    "        fig = plt.figure(figsize=(20, 8))\n",
    "        \n",
    "    <mask> = datetime.timedelta(minutes=resample_minutes)\n",
    "    <mask> = df.resample(resample_timedelta, on='timestamp').mean(numeric_only=True)\n",
    "    \n",
    "    <mask> = lambda x: target_column_name if label is None else label\n",
    "    if fill and not colour:\n",
    "        plt.fill_between(df_resampled.index, df_resampled[target_column_name], label = label_check(label))\n",
    "    elif not fill and not colour:\n",
    "        plt.plot(df_resampled.index, df_resampled[target_column_name], linewidth = 2, label = label_check(label))\n",
    "    else:\n",
    "        plt.plot(df_resampled.index, df_resampled[target_column_name], linewidth = 2, color = colour, label = label_check(label))\n",
    "        \n",
    "    plt.xlabel(\"Time\", fontsize=18)\n",
    "    plt.ylabel(f'{target_column_name} count', fontsize=18)\n",
    "    plt.xticks(fontsize=16)\n",
    "    plt.yticks(fontsize=16)\n",
    "    \n",
    "    if title is None:\n",
    "        plt.title(f\"Distribution of {target_column_name} over time\", fontsize=18) \n",
    "    else:\n",
    "        plt.title(title, fontsize=20)\"\"\""
   ]
  },
  {
   "cell_type": "code",
   "execution_count": 17,
   "id": "e9b6c61f",
   "metadata": {},
   "outputs": [
    {
     "name": "stdout",
     "output_type": "stream",
     "text": [
      "--------------------------------------------------\n",
      "Mask number: 0\n",
      "True label: draw_time_dist\n",
      "\n",
      "Predicted_word:  plot\n",
      "Probability: 0.24\n",
      "Predicted_word:  hist\n",
      "Probability: 0.19\n",
      "--------------------------------------------------\n",
      "\n",
      "--------------------------------------------------\n",
      "Mask number: 1\n",
      "True label: resample_timedelat\n",
      "\n",
      "Predicted_word: dt\n",
      "Probability: 0.377\n",
      "Predicted_word: t\n",
      "Probability: 0.16\n",
      "--------------------------------------------------\n",
      "\n",
      "--------------------------------------------------\n",
      "Mask number: 2\n",
      "True label: df_resampled\n",
      "\n",
      "Predicted_word: df\n",
      "Probability: 0.401\n",
      "Predicted_word: mean\n",
      "Probability: 0.184\n",
      "--------------------------------------------------\n",
      "\n",
      "--------------------------------------------------\n",
      "Mask number: 3\n",
      "True label: label_check\n",
      "\n",
      "Predicted_word: label\n",
      "Probability: 0.878\n",
      "Predicted_word: check\n",
      "Probability: 0.067\n",
      "--------------------------------------------------\n",
      "\n"
     ]
    }
   ],
   "source": [
    "code_plot_labels = [\"draw_time_dist\", \"resample_timedelat\", \"df_resampled\", \"label_check\"]\n",
    "output_print(code_plot, code_plot_labels)"
   ]
  },
  {
   "cell_type": "code",
   "execution_count": null,
   "id": "7bcddd64",
   "metadata": {},
   "outputs": [],
   "source": []
  },
  {
   "cell_type": "code",
   "execution_count": null,
   "id": "6cd1e1b0",
   "metadata": {},
   "outputs": [],
   "source": []
  }
 ],
 "metadata": {
  "kernelspec": {
   "display_name": "Python 3 (ipykernel)",
   "language": "python",
   "name": "python3"
  },
  "language_info": {
   "codemirror_mode": {
    "name": "ipython",
    "version": 3
   },
   "file_extension": ".py",
   "mimetype": "text/x-python",
   "name": "python",
   "nbconvert_exporter": "python",
   "pygments_lexer": "ipython3",
   "version": "3.10.8"
  }
 },
 "nbformat": 4,
 "nbformat_minor": 5
}
