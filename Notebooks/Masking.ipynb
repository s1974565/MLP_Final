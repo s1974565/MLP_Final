{
 "cells": [
  {
   "cell_type": "code",
   "execution_count": 3,
   "id": "d628ed66",
   "metadata": {},
   "outputs": [],
   "source": [
    "import pickle\n",
    "import matplotlib.pyplot as plt\n",
    "import numpy as np\n",
    "from transformers import pipeline\n",
    "\n",
    "from transformers import AutoTokenizer, AutoModelForMaskedLM\n",
    "tokenizer = AutoTokenizer.from_pretrained(\"neulab/codebert-python\")\n",
    "model = AutoModelForMaskedLM.from_pretrained(\"neulab/codebert-python\")"
   ]
  },
  {
   "cell_type": "code",
   "execution_count": 4,
   "id": "af4148da",
   "metadata": {},
   "outputs": [],
   "source": [
    "# Model link: https://huggingface.co/neulab/codebert-python?text=def+more_frequent_entry%28%3Cmask%3E%29%3A\n",
    "unmasker = pipeline(\"fill-mask\", model=model, tokenizer=tokenizer)"
   ]
  },
  {
   "cell_type": "code",
   "execution_count": 5,
   "id": "8888219c",
   "metadata": {},
   "outputs": [],
   "source": [
    "def output_print(input_sequence, true_labels=None, top_k=2, model=unmasker, mask_token=\"<mask>\"):\n",
    "    mask_num = input_sequence.count(mask_token)\n",
    "    output = model(input_sequence, top_k=top_k)\n",
    "    if mask_num == 1:\n",
    "        print(\"-\" * 50)\n",
    "        if true_labels:\n",
    "            print(f\"True label: {true_labels[0]}\")\n",
    "            print(\"\")\n",
    "        for candidate in output:\n",
    "            print(f\"Predicted_word: {candidate['token_str']}\")\n",
    "            print(f\"Probability: {round(candidate['score'], 3)}\")\n",
    "        print(\"-\" * 50)\n",
    "        print(\"\")\n",
    "        \n",
    "    else:\n",
    "        for index, word_prediction in enumerate(output):\n",
    "            print(\"-\" * 50)\n",
    "            print(f\"Mask number: {index}\")\n",
    "            if true_labels:\n",
    "                print(f\"True label: {true_labels[index]}\")\n",
    "                print(\"\")\n",
    "            for candidate in word_prediction:\n",
    "                print(f\"Predicted_word: {candidate['token_str']}\")\n",
    "                print(f\"Probability: {round(candidate['score'], 3)}\")\n",
    "            print(\"-\" * 50)\n",
    "            print(\"\")"
   ]
  },
  {
   "cell_type": "code",
   "execution_count": 7,
   "id": "881f2f82",
   "metadata": {},
   "outputs": [],
   "source": [
    "code_snippet_1 = \"\"\"\n",
    "def <mask>(list):\n",
    "    max_value = float(\"inf\")\n",
    "    max_index = 0\n",
    "    for i in range(len(list)):\n",
    "        if max_value < list[i]:\n",
    "            max_value = list[i]\n",
    "            max_index = i\n",
    "    return list[max_index]\"\"\""
   ]
  },
  {
   "cell_type": "code",
   "execution_count": 8,
   "id": "0c37c28c",
   "metadata": {
    "scrolled": true
   },
   "outputs": [
    {
     "name": "stdout",
     "output_type": "stream",
     "text": [
      "--------------------------------------------------\n",
      "Predicted_word:  max\n",
      "Probability: 0.738\n",
      "Predicted_word:  min\n",
      "Probability: 0.156\n",
      "--------------------------------------------------\n",
      "\n"
     ]
    }
   ],
   "source": [
    "output_print(code_snippet_1)"
   ]
  },
  {
   "cell_type": "code",
   "execution_count": 9,
   "id": "76605477",
   "metadata": {},
   "outputs": [],
   "source": [
    "code_snippet_2 = \"\"\"\n",
    "def <mask>(img):\n",
    "    plt.figure(figsize=(10, 10))\n",
    "    plt.imshow(img)\n",
    "    plt.tight_layout()\n",
    "    plt.savefig()\n",
    "\"\"\""
   ]
  },
  {
   "cell_type": "code",
   "execution_count": 10,
   "id": "772d3b87",
   "metadata": {},
   "outputs": [
    {
     "name": "stdout",
     "output_type": "stream",
     "text": [
      "--------------------------------------------------\n",
      "Predicted_word:  show\n",
      "Probability: 0.686\n",
      "Predicted_word:  plot\n",
      "Probability: 0.111\n",
      "--------------------------------------------------\n",
      "\n"
     ]
    }
   ],
   "source": [
    "output_print(code_snippet_2)"
   ]
  },
  {
   "cell_type": "code",
   "execution_count": 11,
   "id": "795d21e7",
   "metadata": {},
   "outputs": [],
   "source": [
    "# Merging two lists into a single dictionary\n",
    "code_snippet_3 = \"\"\"\n",
    "def <mask>(key_list, value_list):\n",
    "    return dict(zip(keys_list, values_list))\n",
    "\"\"\""
   ]
  },
  {
   "cell_type": "code",
   "execution_count": 12,
   "id": "263a49b7",
   "metadata": {},
   "outputs": [
    {
     "name": "stdout",
     "output_type": "stream",
     "text": [
      "--------------------------------------------------\n",
      "Predicted_word:  dict\n",
      "Probability: 0.302\n",
      "Predicted_word:  map\n",
      "Probability: 0.085\n",
      "--------------------------------------------------\n",
      "\n"
     ]
    }
   ],
   "source": [
    "output_print(code_snippet_3)"
   ]
  },
  {
   "cell_type": "code",
   "execution_count": 13,
   "id": "69064e78",
   "metadata": {},
   "outputs": [],
   "source": [
    "# The same functionality compared to the previous one, but with a different implementation\n",
    "code_snippet_4 = \"\"\"\n",
    "def <mask>(key_list, value_list):\n",
    "    items_tuples = zip(keys_list, values_list) \n",
    "    merged_dict = dict()\n",
    "    for key, value in items_tuples: \n",
    "        if key in merged_dict: \n",
    "            pass\n",
    "        else: \n",
    "            merged_dict[key] = value\n",
    "            \n",
    "    return merged_dict\n",
    "\"\"\""
   ]
  },
  {
   "cell_type": "code",
   "execution_count": 23,
   "id": "64594799",
   "metadata": {},
   "outputs": [
    {
     "name": "stdout",
     "output_type": "stream",
     "text": [
      "--------------------------------------------------\n",
      "Predicted_word:  merge\n",
      "Probability: 0.833\n",
      "Predicted_word:  union\n",
      "Probability: 0.018\n",
      "Predicted_word:  add\n",
      "Probability: 0.017\n",
      "Predicted_word:  combine\n",
      "Probability: 0.015\n",
      "Predicted_word:  update\n",
      "Probability: 0.013\n",
      "--------------------------------------------------\n",
      "\n"
     ]
    }
   ],
   "source": [
    "output_print(code_snippet_4, top_k=5)"
   ]
  },
  {
   "cell_type": "code",
   "execution_count": 16,
   "id": "223e1260",
   "metadata": {},
   "outputs": [],
   "source": [
    "# The same code compared to the previous one, but with different variable names\n",
    "code_snippet_5 = \"\"\"\n",
    "def <mask>(list_1, list_2):\n",
    "    items_tuples = zip(keys_list, values_list) \n",
    "    final_dict = dict()\n",
    "    for key, value in items_tuples: \n",
    "        if key in final_dict: \n",
    "            pass\n",
    "        else: \n",
    "            final_dict[key] = value\n",
    "            \n",
    "    return final_dict\n",
    "\"\"\""
   ]
  },
  {
   "cell_type": "code",
   "execution_count": 24,
   "id": "3e86e86f",
   "metadata": {},
   "outputs": [
    {
     "name": "stdout",
     "output_type": "stream",
     "text": [
      "--------------------------------------------------\n",
      "Predicted_word:  merge\n",
      "Probability: 0.449\n",
      "Predicted_word:  union\n",
      "Probability: 0.052\n",
      "Predicted_word:  add\n",
      "Probability: 0.043\n",
      "Predicted_word:  intersect\n",
      "Probability: 0.038\n",
      "Predicted_word:  update\n",
      "Probability: 0.037\n",
      "--------------------------------------------------\n",
      "\n"
     ]
    }
   ],
   "source": [
    "output_print(code_snippet_5, top_k=5)"
   ]
  },
  {
   "cell_type": "code",
   "execution_count": 18,
   "id": "679907c4",
   "metadata": {},
   "outputs": [],
   "source": [
    "# Linear regression for the given datasets, from the scikit learn website\n",
    "code_snippet_6 = \"\"\"\n",
    "def <mask>(X, y):\n",
    "    reg = LinearRegression().fit(X, y)\n",
    "    print(reg.score(X, y), reg.coef_)\n",
    "    return reg\n",
    "    \n",
    "def <mask>(X, model):\n",
    "    return model.predict(X)\n",
    "\"\"\""
   ]
  },
  {
   "cell_type": "code",
   "execution_count": 19,
   "id": "23e067ce",
   "metadata": {},
   "outputs": [
    {
     "name": "stdout",
     "output_type": "stream",
     "text": [
      "--------------------------------------------------\n",
      "Mask number: 0\n",
      "Predicted_word:  fit\n",
      "Probability: 0.599\n",
      "Predicted_word:  train\n",
      "Probability: 0.137\n",
      "--------------------------------------------------\n",
      "\n",
      "--------------------------------------------------\n",
      "Mask number: 1\n",
      "Predicted_word:  predict\n",
      "Probability: 0.823\n",
      "Predicted_word:  evaluate\n",
      "Probability: 0.042\n",
      "--------------------------------------------------\n",
      "\n"
     ]
    }
   ],
   "source": [
    "output_print(code_snippet_6)"
   ]
  },
  {
   "cell_type": "markdown",
   "id": "b437e0b5",
   "metadata": {},
   "source": [
    "Testing with codes from my project"
   ]
  },
  {
   "cell_type": "code",
   "execution_count": 26,
   "id": "e8bdfe9e",
   "metadata": {},
   "outputs": [],
   "source": [
    "code_plot = \"\"\"\n",
    "def <mask>(df, <mask>, resample_minutes, colour=None, draw_plot=True, title=None, fill=True, label=None):\n",
    "    if draw_plot:\n",
    "        fig = plt.figure(figsize=(20, 8))\n",
    "        \n",
    "    <mask> = datetime.timedelta(minutes=resample_minutes)\n",
    "    <mask> = df.resample(resample_timedelta, on='timestamp').mean(numeric_only=True)\n",
    "    \n",
    "    <mask> = lambda x: target_column_name if label is None else label\n",
    "    if fill and not colour:\n",
    "        plt.fill_between(df_resampled.index, df_resampled[target_column_name], label = label_check(label))\n",
    "    elif not fill and not colour:\n",
    "        plt.plot(df_resampled.index, df_resampled[target_column_name], linewidth = 2, label = label_check(label))\n",
    "    else:\n",
    "        plt.plot(df_resampled.index, df_resampled[target_column_name], linewidth = 2, color = colour, label = label_check(label))\n",
    "        \n",
    "    plt.xlabel(\"Time\", fontsize=18)\n",
    "    plt.ylabel(f'{target_column_name} count', fontsize=18)\n",
    "    plt.xticks(fontsize=16)\n",
    "    plt.yticks(fontsize=16)\n",
    "    \n",
    "    if title is None:\n",
    "        plt.title(f\"Distribution of {target_column_name} over time\", fontsize=18) \n",
    "    else:\n",
    "        plt.title(title, fontsize=20)\"\"\""
   ]
  },
  {
   "cell_type": "code",
   "execution_count": 27,
   "id": "e9b6c61f",
   "metadata": {
    "scrolled": true
   },
   "outputs": [
    {
     "name": "stdout",
     "output_type": "stream",
     "text": [
      "--------------------------------------------------\n",
      "Mask number: 0\n",
      "True label: draw_time_dist\n",
      "\n",
      "Predicted_word:  plot\n",
      "Probability: 0.366\n",
      "Predicted_word:  hist\n",
      "Probability: 0.116\n",
      "--------------------------------------------------\n",
      "\n",
      "--------------------------------------------------\n",
      "Mask number: 1\n",
      "True label: target_column_name\n",
      "\n",
      "Predicted_word:  fig\n",
      "Probability: 0.104\n",
      "Predicted_word:  target\n",
      "Probability: 0.078\n",
      "--------------------------------------------------\n",
      "\n",
      "--------------------------------------------------\n",
      "Mask number: 2\n",
      "True label: resample_timedelat\n",
      "\n",
      "Predicted_word: dt\n",
      "Probability: 0.355\n",
      "Predicted_word: t\n",
      "Probability: 0.174\n",
      "--------------------------------------------------\n",
      "\n",
      "--------------------------------------------------\n",
      "Mask number: 3\n",
      "True label: df_resampled\n",
      "\n",
      "Predicted_word: df\n",
      "Probability: 0.522\n",
      "Predicted_word: mean\n",
      "Probability: 0.113\n",
      "--------------------------------------------------\n",
      "\n",
      "--------------------------------------------------\n",
      "Mask number: 4\n",
      "True label: label_check\n",
      "\n",
      "Predicted_word: label\n",
      "Probability: 0.748\n",
      "Predicted_word: check\n",
      "Probability: 0.175\n",
      "--------------------------------------------------\n",
      "\n"
     ]
    }
   ],
   "source": [
    "# Evaluation by Perplexity, BLEU, and cosine difference by word2vec\n",
    "code_plot_labels = [\"draw_time_dist\", \"target_column_name\", \"resample_timedelat\", \"df_resampled\", \"label_check\"]\n",
    "output_print(code_plot, code_plot_labels)"
   ]
  }
 ],
 "metadata": {
  "kernelspec": {
   "display_name": "Python 3 (ipykernel)",
   "language": "python",
   "name": "python3"
  },
  "language_info": {
   "codemirror_mode": {
    "name": "ipython",
    "version": 3
   },
   "file_extension": ".py",
   "mimetype": "text/x-python",
   "name": "python",
   "nbconvert_exporter": "python",
   "pygments_lexer": "ipython3",
   "version": "3.10.8"
  }
 },
 "nbformat": 4,
 "nbformat_minor": 5
}
