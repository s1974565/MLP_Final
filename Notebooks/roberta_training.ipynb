{
 "cells": [
  {
   "cell_type": "markdown",
   "id": "9490a91e",
   "metadata": {},
   "source": [
    "# Fine-tuning RoBERTa\n",
    "\n",
    "We use an adapted version of the training process from this colab notebook on huggingface https://colab.research.google.com/github/huggingface/notebooks/blob/main/examples/language_modeling.ipynb#scrollTo=h_2R1lfx31hj"
   ]
  },
  {
   "cell_type": "code",
   "execution_count": 1,
   "id": "7489436b",
   "metadata": {},
   "outputs": [],
   "source": [
    "import matplotlib.pyplot as plt\n",
    "import torch\n",
    "import evaluate\n",
    "from transformers import AutoModelForMaskedLM, AutoTokenizer, pipeline\n",
    "from transformers import RobertaTokenizer, RobertaForMaskedLM, Trainer\n",
    "import numpy as np\n",
    "import pandas as pd\n",
    "# Get CPU or GPU device for training\n",
    "device = \"cuda\" if torch.cuda.is_available() else \"cpu\"\n",
    "device = torch.device(device)"
   ]
  },
  {
   "cell_type": "markdown",
   "id": "870c9e03",
   "metadata": {},
   "source": [
    "We have our RoBERTa model with its associated tokenizer"
   ]
  },
  {
   "cell_type": "code",
   "execution_count": 2,
   "id": "afe59f99",
   "metadata": {},
   "outputs": [],
   "source": [
    "model = RobertaForMaskedLM.from_pretrained('roberta-base')\n",
    "tokenizer = RobertaTokenizer.from_pretrained('roberta-base')"
   ]
  },
  {
   "cell_type": "markdown",
   "id": "8349e65f",
   "metadata": {},
   "source": [
    "we import the data"
   ]
  },
  {
   "cell_type": "code",
   "execution_count": 3,
   "id": "0e010557",
   "metadata": {},
   "outputs": [],
   "source": [
    "#df_train = pd.read_pickle(\"train.pickle\") # leaving out train.pickle for now because it is too big for the kernel along with the models\n",
    "df_valid = pd.read_pickle(\"valid.pickle\")\n",
    "df_test = pd.read_pickle(\"test.pickle\")"
   ]
  },
  {
   "cell_type": "code",
   "execution_count": null,
   "id": "db989c3e",
   "metadata": {},
   "outputs": [],
   "source": []
  },
  {
   "cell_type": "markdown",
   "id": "0d5cdde0",
   "metadata": {},
   "source": [
    "We need to add a custom data collator to sometimes mask out the variables but not always"
   ]
  },
  {
   "cell_type": "code",
   "execution_count": null,
   "id": "a7ce8278",
   "metadata": {},
   "outputs": [],
   "source": [
    "class mydatacollator()"
   ]
  },
  {
   "cell_type": "markdown",
   "id": "ec5b0bdc",
   "metadata": {},
   "source": [
    "We decide our training hyperparameters https://huggingface.co/docs/transformers/v4.26.1/en/main_classes/trainer#transformers.TrainingArguments"
   ]
  },
  {
   "cell_type": "code",
   "execution_count": null,
   "id": "8c838b31",
   "metadata": {},
   "outputs": [],
   "source": [
    "training_args = TrainingArguments(\n",
    "    evaluation_strategy = \"epoch\",\n",
    "    learning_rate=2e-5,\n",
    "    weight_decay=0.01,\n",
    "    num_train_epochs=10\n",
    "    data_collator=mydata_collator,\n",
    ")"
   ]
  },
  {
   "cell_type": "markdown",
   "id": "cf90103d",
   "metadata": {},
   "source": [
    "Now we define the trainer"
   ]
  },
  {
   "cell_type": "code",
   "execution_count": null,
   "id": "cf15a966",
   "metadata": {},
   "outputs": [],
   "source": [
    "trainer = Trainer(\n",
    "    model=model,\n",
    "    args=training_args,\n",
    "    train_dataset=df_valid['code'], # set to validate for the time being, make sure to change for the real thing\n",
    "    eval_dataset=df_test['code'],\n",
    ")"
   ]
  },
  {
   "cell_type": "markdown",
   "id": "4462d590",
   "metadata": {},
   "source": [
    "Determine the perplexity on the validation data"
   ]
  },
  {
   "cell_type": "code",
   "execution_count": null,
   "id": "9292074d",
   "metadata": {},
   "outputs": [],
   "source": [
    "import math\n",
    "eval_results = trainer.evaluate()\n",
    "print(f\"Perplexity: {math.exp(eval_results['eval_loss']):.2f}\")"
   ]
  }
 ],
 "metadata": {
  "kernelspec": {
   "display_name": "Python 3 (ipykernel)",
   "language": "python",
   "name": "python3"
  },
  "language_info": {
   "codemirror_mode": {
    "name": "ipython",
    "version": 3
   },
   "file_extension": ".py",
   "mimetype": "text/x-python",
   "name": "python",
   "nbconvert_exporter": "python",
   "pygments_lexer": "ipython3",
   "version": "3.10.9"
  }
 },
 "nbformat": 4,
 "nbformat_minor": 5
}
