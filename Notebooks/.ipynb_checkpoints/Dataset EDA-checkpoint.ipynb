{
 "cells": [
  {
   "cell_type": "code",
   "execution_count": 1,
   "id": "a7fa15e1",
   "metadata": {},
   "outputs": [],
   "source": [
    "import pickle\n",
    "import matplotlib.pyplot as plt\n",
    "import pandas as pd\n",
    "import numpy as np\n",
    "import os\n",
    "import glob\n",
    "import re\n",
    "\n",
    "from transformers import pipeline\n",
    "import torch"
   ]
  },
  {
   "cell_type": "markdown",
   "id": "c700cacb",
   "metadata": {},
   "source": [
    "### Helper methods"
   ]
  },
  {
   "cell_type": "code",
   "execution_count": 72,
   "id": "6a61540c",
   "metadata": {},
   "outputs": [],
   "source": [
    "def jsonl_list_to_dataframe(file_list, columns=None):\n",
    "    \"\"\"Load a list of jsonl.gz files into a pandas DataFrame.\"\"\"\n",
    "    return pd.concat([pd.read_json(f, orient='records', compression='gzip', lines=True)[columns] for f in file_list], \n",
    "                     sort=False)\n",
    "def get_dfs(path):\n",
    "    \"\"\"Grabs the different data splits and converts them into dataframes\"\"\"\n",
    "    dfs = []\n",
    "    for split in [\"train\", \"valid\", \"test\"]:\n",
    "        files = sorted(glob.glob(path+\"/\"+split+\"**/*.gz\"))\n",
    "        df = jsonl_list_to_dataframe(files, [\"func_name\", \"code\", \"code_tokens\", \"repo\"])\n",
    "        dfs.append(df)\n",
    "    return dfs\n",
    "\n",
    "def mask_variable_names(code, mask_prob, mask_token):\n",
    "    \"\"\"\n",
    "    Mask the values of variables in a code with a certain probability.\n",
    "    \"\"\"\n",
    "    # Regular expression pattern to match variable assignments\n",
    "    pattern = r\"\\b(\\w.*\\s*=\\s*[^#\\n]*)\"\n",
    "    matches = re.findall(pattern, code)\n",
    "    masked_code = code\n",
    "    masked_labels = list()\n",
    "    \n",
    "    # If there is a variable found\n",
    "    if matches:\n",
    "        for match in matches:\n",
    "            # Split the match into sub-parts by the equal sign, and check if the first sub-part contain any parenthesis.\n",
    "            # If not, then the first sub-part is variable(s).\n",
    "            first_sub_part = match.split(\"=\")[0]\n",
    "            if not (\"(\" in first_sub_part or \")\" in first_sub_part):\n",
    "                variables = set(re.split(\",|=\", first_sub_part))\n",
    "                \n",
    "                # Masking variables based on the mask_prob\n",
    "                for var in variables:\n",
    "                    if np.random.uniform() < mask_prob:\n",
    "                        masked_match = match.replace(var.strip(), mask_token)\n",
    "                        masked_code = masked_code.replace(match, masked_match)\n",
    "                        masked_labels.append(var.strip())\n",
    "            else:\n",
    "                continue\n",
    "        \n",
    "        return masked_code, masked_labels\n",
    "    \n",
    "    # If no variable is found\n",
    "    else:\n",
    "        return code, None\n",
    "        \n",
    "def mask_variable_df(df, code_column_name=\"code\", mask_prob=0.5, mask_token=\"<mask>\", return_df=True):\n",
    "    masked_code_list = list()\n",
    "    variable_labels_list = list()\n",
    "    \n",
    "    for index, row in df.iterrows():\n",
    "        masked_code, variable_labels = mask_variable_names(row[\"code\"], mask_prob, mask_token)\n",
    "        masked_code_list.append(masked_code)\n",
    "        variable_labels_list.append(variable_labels)\n",
    "        \n",
    "    if return_df:\n",
    "        return pd.DataFrame({\"masked_code\" : masked_code_list, \"masked_code_label\" : variable_labels_list})\n",
    "    else:\n",
    "        return masked_code_list, variable_labels_list"
   ]
  },
  {
   "cell_type": "code",
   "execution_count": 73,
   "id": "57ea4753",
   "metadata": {},
   "outputs": [],
   "source": [
    "# For saving the original files into pickle files.\n",
    "# df_train, df_valid, df_test = get_dfs(\"data/codenet/python/final/jsonl\")\n",
    "\n",
    "# df_train.to_pickle(\"train.pickle\")\n",
    "# df_valid.to_pickle(\"valid.pickle\")\n",
    "# df_test.to_pickle(\"test.pickle\")\n",
    "\n",
    "df_train = pd.read_pickle(\"train.pickle\").reset_index(drop=True, inplace=True)\n",
    "df_valid = pd.read_pickle(\"valid.pickle\").reset_index(drop=True, inplace=True)\n",
    "df_test = pd.read_pickle(\"test.pickle\").reset_index(drop=True, inplace=True)"
   ]
  },
  {
   "cell_type": "markdown",
   "id": "9315348c",
   "metadata": {},
   "source": [
    "### Variable masker examples"
   ]
  },
  {
   "cell_type": "markdown",
   "id": "f05f5752",
   "metadata": {},
   "source": [
    "You may change the mask_prob to change the probability of a variable to be masked. Currently it is set to 1 (100%)."
   ]
  },
  {
   "cell_type": "code",
   "execution_count": 74,
   "id": "aacd0254",
   "metadata": {
    "scrolled": true
   },
   "outputs": [
    {
     "data": {
      "text/html": [
       "<div>\n",
       "<style scoped>\n",
       "    .dataframe tbody tr th:only-of-type {\n",
       "        vertical-align: middle;\n",
       "    }\n",
       "\n",
       "    .dataframe tbody tr th {\n",
       "        vertical-align: top;\n",
       "    }\n",
       "\n",
       "    .dataframe thead th {\n",
       "        text-align: right;\n",
       "    }\n",
       "</style>\n",
       "<table border=\"1\" class=\"dataframe\">\n",
       "  <thead>\n",
       "    <tr style=\"text-align: right;\">\n",
       "      <th></th>\n",
       "      <th>masked_code</th>\n",
       "      <th>masked_code_label</th>\n",
       "    </tr>\n",
       "  </thead>\n",
       "  <tbody>\n",
       "    <tr>\n",
       "      <th>0</th>\n",
       "      <td>def train(train_dir, model_save_path=None, n_n...</td>\n",
       "      <td>[X, y, image, face_bounding_boxes, n_neighbors...</td>\n",
       "    </tr>\n",
       "    <tr>\n",
       "      <th>1</th>\n",
       "      <td>def predict(X_img_path, knn_clf=None, model_pa...</td>\n",
       "      <td>[knn_clf, X_img, X_face_locations, faces_encod...</td>\n",
       "    </tr>\n",
       "    <tr>\n",
       "      <th>2</th>\n",
       "      <td>def show_prediction_labels_on_image(img_path, ...</td>\n",
       "      <td>[pil_image, draw, name, text_height, text_width]</td>\n",
       "    </tr>\n",
       "    <tr>\n",
       "      <th>3</th>\n",
       "      <td>def _rect_to_css(rect):\\n    \"\"\"\\n    Convert ...</td>\n",
       "      <td>None</td>\n",
       "    </tr>\n",
       "    <tr>\n",
       "      <th>4</th>\n",
       "      <td>def _trim_css_to_bounds(css, image_shape):\\n  ...</td>\n",
       "      <td>None</td>\n",
       "    </tr>\n",
       "  </tbody>\n",
       "</table>\n",
       "</div>"
      ],
      "text/plain": [
       "                                         masked_code  \\\n",
       "0  def train(train_dir, model_save_path=None, n_n...   \n",
       "1  def predict(X_img_path, knn_clf=None, model_pa...   \n",
       "2  def show_prediction_labels_on_image(img_path, ...   \n",
       "3  def _rect_to_css(rect):\\n    \"\"\"\\n    Convert ...   \n",
       "4  def _trim_css_to_bounds(css, image_shape):\\n  ...   \n",
       "\n",
       "                                   masked_code_label  \n",
       "0  [X, y, image, face_bounding_boxes, n_neighbors...  \n",
       "1  [knn_clf, X_img, X_face_locations, faces_encod...  \n",
       "2   [pil_image, draw, name, text_height, text_width]  \n",
       "3                                               None  \n",
       "4                                               None  "
      ]
     },
     "execution_count": 74,
     "metadata": {},
     "output_type": "execute_result"
    }
   ],
   "source": [
    "df_train_head = df_train.head()\n",
    "result = mask_variable_df(df_train_head, mask_prob=1)"
   ]
  },
  {
   "cell_type": "code",
   "execution_count": 75,
   "id": "b8225861",
   "metadata": {
    "scrolled": true
   },
   "outputs": [
    {
     "name": "stdout",
     "output_type": "stream",
     "text": [
      "def predict(X_img_path, knn_clf=None, model_path=None, distance_threshold=0.6):\n",
      "    \"\"\"\n",
      "    Recognizes faces in given image using a trained KNN classifier\n",
      "\n",
      "    :param X_img_path: path to image to be recognized\n",
      "    :param knn_clf: (optional) a knn classifier object. if not specified, model_save_path must be specified.\n",
      "    :param model_path: (optional) path to a pickled knn classifier. if not specified, model_save_path must be knn_clf.\n",
      "    :param distance_threshold: (optional) distance threshold for face classification. the larger it is, the more chance\n",
      "           of mis-classifying an unknown person as a known one.\n",
      "    :return: a list of names and face locations for the recognized faces in the image: [(name, bounding box), ...].\n",
      "        For faces of unrecognized persons, the name 'unknown' will be returned.\n",
      "    \"\"\"\n",
      "    if not os.path.isfile(X_img_path) or os.path.splitext(X_img_path)[1][1:] not in ALLOWED_EXTENSIONS:\n",
      "        raise Exception(\"Invalid image path: {}\".format(X_img_path))\n",
      "\n",
      "    if knn_clf is None and model_path is None:\n",
      "        raise Exception(\"Must supply knn classifier either thourgh knn_clf or model_path\")\n",
      "\n",
      "    # Load a trained KNN model (if one was passed in)\n",
      "    if knn_clf is None:\n",
      "        with open(model_path, 'rb') as f:\n",
      "            <mask> = pickle.load(f)\n",
      "\n",
      "    # Load image file and find face locations\n",
      "    <mask> = face_recognition.load_image_file(<mask>_path)\n",
      "    <mask> = face_recognition.face_locations(X_img)\n",
      "\n",
      "    # If no faces are found in the image, return an empty result.\n",
      "    if len(X_face_locations) == 0:\n",
      "        return []\n",
      "\n",
      "    # Find encodings for faces in the test iamge\n",
      "    <mask> = face_recognition.face_encodings(X_img, known_face_locations=X_face_locations)\n",
      "\n",
      "    # Use the KNN model to find the best matches for the test face\n",
      "    <mask> = knn_clf.kneighbors(faces_encodings, n_neighbors=1)\n",
      "    <mask> = [closest_distances[0][i][0] <= distance_threshold for i in range(len(X_face_locations))]\n",
      "\n",
      "    # Predict classes and remove classifications that aren't within the threshold\n",
      "    return [(pred, loc) if rec else (\"unknown\", loc) for pred, loc, rec in zip(knn_clf.predict(faces_encodings), X_face_locations, are_matches)]\n"
     ]
    }
   ],
   "source": [
    "print(result.loc[0, \"masked_code\"])"
   ]
  },
  {
   "cell_type": "code",
   "execution_count": 76,
   "id": "8ced62ec",
   "metadata": {},
   "outputs": [
    {
     "name": "stdout",
     "output_type": "stream",
     "text": [
      "['knn_clf', 'X_img', 'X_face_locations', 'faces_encodings', 'closest_distances', 'are_matches']\n"
     ]
    }
   ],
   "source": [
    "print(result.loc[0, \"masked_code_label\"])"
   ]
  },
  {
   "cell_type": "markdown",
   "id": "87bc2c9f",
   "metadata": {},
   "source": [
    "### Baseline score 1: "
   ]
  },
  {
   "cell_type": "markdown",
   "id": "461527e3",
   "metadata": {},
   "source": [
    "### Baseline score 2: "
   ]
  },
  {
   "cell_type": "code",
   "execution_count": null,
   "id": "ea09c08a",
   "metadata": {},
   "outputs": [],
   "source": []
  }
 ],
 "metadata": {
  "kernelspec": {
   "display_name": "Python 3 (ipykernel)",
   "language": "python",
   "name": "python3"
  },
  "language_info": {
   "codemirror_mode": {
    "name": "ipython",
    "version": 3
   },
   "file_extension": ".py",
   "mimetype": "text/x-python",
   "name": "python",
   "nbconvert_exporter": "python",
   "pygments_lexer": "ipython3",
   "version": "3.10.8"
  }
 },
 "nbformat": 4,
 "nbformat_minor": 5
}
