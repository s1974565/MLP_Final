{
 "cells": [
  {
   "cell_type": "code",
   "execution_count": 1,
   "metadata": {
    "collapsed": true
   },
   "outputs": [],
   "source": [
    "import pickle\n",
    "import pandas as pd\n",
    "import numpy as np\n",
    "import torch\n",
    "\n",
    "# Helpers\n",
    "from testing import *\n",
    "# Baseline model 1\n",
    "from transformers import RobertaTokenizer, RobertaForMaskedLM, pipeline\n",
    "\n",
    "# Check if GPU acceleration is available\n",
    "if torch.cuda.is_available():\n",
    "    device_num = torch.cuda.current_device()\n",
    "else:\n",
    "    # CPU\n",
    "    device_num = -1"
   ]
  },
  {
   "cell_type": "code",
   "execution_count": 2,
   "metadata": {},
   "outputs": [],
   "source": [
    "# Run this if you removed pickle files\n",
    "# saving_pickles()\n",
    "\n",
    "train_df, valid_df, test_df = loading_pickles()"
   ]
  },
  {
   "cell_type": "code",
   "execution_count": 3,
   "outputs": [],
   "source": [
    "# Constants\n",
    "\n",
    "mask_prob = 0.5\n",
    "window_size = 100\n",
    "batch_size = 50"
   ],
   "metadata": {
    "collapsed": false
   }
  },
  {
   "cell_type": "code",
   "execution_count": 4,
   "outputs": [
    {
     "name": "stderr",
     "output_type": "stream",
     "text": [
      "Masking: 100%|██████████| 23107/23107 [00:07<00:00, 3174.12it/s]\n"
     ]
    }
   ],
   "source": [
    "# Masking the given code dataframe and use in every testing\n",
    "# It is necessary to test models fairly (with the same masked variables on the given probability)\n",
    "masked_code_df = mask_variable_df(valid_df, mask_prob=mask_prob)\n",
    "merged_code_df = pd.concat([valid_df, masked_code_df], axis=\"columns\")"
   ],
   "metadata": {
    "collapsed": false
   }
  },
  {
   "cell_type": "markdown",
   "source": [
    "### Baseline model 1\n",
    "\n",
    "Source: https://huggingface.co/microsoft/codebert-base-mlm\n",
    "As stated in https://github.com/microsoft/CodeBERT, the basic CodeBERT is not suitable for filling-mask task."
   ],
   "metadata": {
    "collapsed": false
   }
  },
  {
   "cell_type": "code",
   "execution_count": 5,
   "metadata": {},
   "outputs": [],
   "source": [
    "model_b1 = RobertaForMaskedLM.from_pretrained('microsoft/codebert-base-mlm')\n",
    "tokenizer_b1 = RobertaTokenizer.from_pretrained('microsoft/codebert-base-mlm')\n",
    "fill_mask_b1 = pipeline('fill-mask', model=model_b1, tokenizer=tokenizer_b1, device=device_num)"
   ]
  },
  {
   "cell_type": "code",
   "execution_count": 6,
   "outputs": [
    {
     "name": "stdout",
     "output_type": "stream",
     "text": [
      "Baseline model 1\n",
      "\n",
      "Top k = 1\n"
     ]
    },
    {
     "name": "stderr",
     "output_type": "stream",
     "text": [
      "Window split: 100%|██████████| 23107/23107 [00:02<00:00, 8428.76it/s]\n",
      "Prediction: 100%|██████████| 67732/67732 [32:09<00:00, 35.09it/s]\n",
      "Similarity: 100%|██████████| 67732/67732 [13:09<00:00, 85.77it/s]\n"
     ]
    },
    {
     "name": "stdout",
     "output_type": "stream",
     "text": [
      "Top k = 2\n"
     ]
    },
    {
     "name": "stderr",
     "output_type": "stream",
     "text": [
      "Window split: 100%|██████████| 23107/23107 [00:03<00:00, 7549.28it/s]\n",
      "Prediction: 100%|██████████| 67732/67732 [34:20<00:00, 32.87it/s] \n",
      "Similarity: 100%|██████████| 67732/67732 [11:58<00:00, 94.25it/s]\n"
     ]
    },
    {
     "name": "stdout",
     "output_type": "stream",
     "text": [
      "Top k = 3\n"
     ]
    },
    {
     "name": "stderr",
     "output_type": "stream",
     "text": [
      "Window split: 100%|██████████| 23107/23107 [00:02<00:00, 8980.06it/s]\n",
      "Prediction: 100%|██████████| 67732/67732 [38:29<00:00, 29.32it/s]  \n",
      "Similarity: 100%|██████████| 67732/67732 [12:43<00:00, 88.75it/s]\n"
     ]
    }
   ],
   "source": [
    "# This may cause exceptions in the following situations:\n",
    "# 1. The given input size is bigger than the maximum model input. Reduce the window_size.\n",
    "# 2. There is not enough GPU memory. Reduce the batch_size.\n",
    "print(\"Top k = 1\")\n",
    "b1_result_k1 = baseline_test(merged_code_df=merged_code_df, unmasker=fill_mask_b1, top_k=1, window_size=window_size, batch_size=batch_size)\n",
    "print(\"Top k = 2\")\n",
    "b1_result_k2 = baseline_test(merged_code_df=merged_code_df, unmasker=fill_mask_b1, top_k=2, window_size=window_size, batch_size=batch_size)\n",
    "print(\"Top k = 3\")\n",
    "b1_result_k3 = baseline_test(merged_code_df=merged_code_df, unmasker=fill_mask_b1, top_k=3, window_size=window_size, batch_size=batch_size)"
   ],
   "metadata": {
    "collapsed": false
   }
  },
  {
   "cell_type": "code",
   "execution_count": 13,
   "outputs": [
    {
     "ename": "FileNotFoundError",
     "evalue": "[Errno 2] No such file or directory: '../baseline_results/b1_result_k1.pickle'",
     "output_type": "error",
     "traceback": [
      "\u001B[1;31m---------------------------------------------------------------------------\u001B[0m",
      "\u001B[1;31mFileNotFoundError\u001B[0m                         Traceback (most recent call last)",
      "Cell \u001B[1;32mIn [13], line 3\u001B[0m\n\u001B[0;32m      1\u001B[0m \u001B[38;5;66;03m# Commented out to prevent accidentally overwriting these files.\u001B[39;00m\n\u001B[1;32m----> 3\u001B[0m \u001B[38;5;28;01mwith\u001B[39;00m \u001B[38;5;28;43mopen\u001B[39;49m\u001B[43m(\u001B[49m\u001B[38;5;124;43m\"\u001B[39;49m\u001B[38;5;124;43m../baseline_results/b1_result_k1.pickle\u001B[39;49m\u001B[38;5;124;43m\"\u001B[39;49m\u001B[43m,\u001B[49m\u001B[43m \u001B[49m\u001B[38;5;124;43m\"\u001B[39;49m\u001B[38;5;124;43mwb\u001B[39;49m\u001B[38;5;124;43m\"\u001B[39;49m\u001B[43m)\u001B[49m \u001B[38;5;28;01mas\u001B[39;00m fw:\n\u001B[0;32m      4\u001B[0m     pickle\u001B[38;5;241m.\u001B[39mdump(b1_result_k1, fw)\n\u001B[0;32m      6\u001B[0m \u001B[38;5;28;01mwith\u001B[39;00m \u001B[38;5;28mopen\u001B[39m(\u001B[38;5;124m\"\u001B[39m\u001B[38;5;124m./baseline_results/b1_result_k2.pickle\u001B[39m\u001B[38;5;124m\"\u001B[39m, \u001B[38;5;124m\"\u001B[39m\u001B[38;5;124mwb\u001B[39m\u001B[38;5;124m\"\u001B[39m) \u001B[38;5;28;01mas\u001B[39;00m fw:\n",
      "File \u001B[1;32m~\\anaconda3\\envs\\mlp\\lib\\site-packages\\IPython\\core\\interactiveshell.py:282\u001B[0m, in \u001B[0;36m_modified_open\u001B[1;34m(file, *args, **kwargs)\u001B[0m\n\u001B[0;32m    275\u001B[0m \u001B[38;5;28;01mif\u001B[39;00m file \u001B[38;5;129;01min\u001B[39;00m {\u001B[38;5;241m0\u001B[39m, \u001B[38;5;241m1\u001B[39m, \u001B[38;5;241m2\u001B[39m}:\n\u001B[0;32m    276\u001B[0m     \u001B[38;5;28;01mraise\u001B[39;00m \u001B[38;5;167;01mValueError\u001B[39;00m(\n\u001B[0;32m    277\u001B[0m         \u001B[38;5;124mf\u001B[39m\u001B[38;5;124m\"\u001B[39m\u001B[38;5;124mIPython won\u001B[39m\u001B[38;5;124m'\u001B[39m\u001B[38;5;124mt let you open fd=\u001B[39m\u001B[38;5;132;01m{\u001B[39;00mfile\u001B[38;5;132;01m}\u001B[39;00m\u001B[38;5;124m by default \u001B[39m\u001B[38;5;124m\"\u001B[39m\n\u001B[0;32m    278\u001B[0m         \u001B[38;5;124m\"\u001B[39m\u001B[38;5;124mas it is likely to crash IPython. If you know what you are doing, \u001B[39m\u001B[38;5;124m\"\u001B[39m\n\u001B[0;32m    279\u001B[0m         \u001B[38;5;124m\"\u001B[39m\u001B[38;5;124myou can use builtins\u001B[39m\u001B[38;5;124m'\u001B[39m\u001B[38;5;124m open.\u001B[39m\u001B[38;5;124m\"\u001B[39m\n\u001B[0;32m    280\u001B[0m     )\n\u001B[1;32m--> 282\u001B[0m \u001B[38;5;28;01mreturn\u001B[39;00m io_open(file, \u001B[38;5;241m*\u001B[39margs, \u001B[38;5;241m*\u001B[39m\u001B[38;5;241m*\u001B[39mkwargs)\n",
      "\u001B[1;31mFileNotFoundError\u001B[0m: [Errno 2] No such file or directory: '../baseline_results/b1_result_k1.pickle'"
     ]
    }
   ],
   "source": [
    "# Commented out to prevent accidentally overwriting these files.\n",
    "\n",
    "# with open(\"./baseline_results/b1_result_k1.pickle\", \"wb\") as fw:\n",
    "#     pickle.dump(b1_result_k1, fw)\n",
    "# \n",
    "# with open(\"./baseline_results/b1_result_k2.pickle\", \"wb\") as fw:\n",
    "#     pickle.dump(b1_result_k2, fw)\n",
    "#\n",
    "# with open(\"./baseline_results/b1_result_k3.pickle\", \"wb\") as fw:\n",
    "#     pickle.dump(b1_result_k3, fw)"
   ],
   "metadata": {
    "collapsed": false
   }
  },
  {
   "cell_type": "markdown",
   "source": [
    "### Baseline model 2"
   ],
   "metadata": {
    "collapsed": false
   }
  },
  {
   "cell_type": "code",
   "execution_count": null,
   "outputs": [],
   "source": [
    "# save the baseline 2 results here"
   ],
   "metadata": {
    "collapsed": false,
    "pycharm": {
     "is_executing": true
    }
   }
  },
  {
   "cell_type": "markdown",
   "source": [
    "### Testing"
   ],
   "metadata": {
    "collapsed": false
   }
  },
  {
   "cell_type": "code",
   "execution_count": null,
   "outputs": [],
   "source": [
    "b1_result_k1 = pd.read_pickle(\"b1_result_k1.pickle\")\n",
    "b1_result_k2 = pd.read_pickle(\"b1_result_k2.pickle\")\n",
    "b1_result_k3 = pd.read_pickle(\"b1_result_k3.pickle\")\n",
    "b2_result_k1 = pd.read_pickle(\"b2_result_k1.pickle\")\n",
    "b2_result_k2 = pd.read_pickle(\"b2_result_k2.pickle\")\n",
    "b2_result_k3 = pd.read_pickle(\"b2_result_k3.pickle\")\n",
    "\n",
    "results = [b1_result_k1, b1_result_k2, b1_result_k3, b2_result_k1, b2_result_k2, b2_result_k3]"
   ],
   "metadata": {
    "collapsed": false
   }
  },
  {
   "cell_type": "code",
   "execution_count": null,
   "outputs": [],
   "source": [
    "def result_print(model_name, result_df):\n",
    "    print(f\"{model_name}: {np.mean(result_df['similarity'])}\")"
   ],
   "metadata": {
    "collapsed": false
   }
  },
  {
   "cell_type": "code",
   "execution_count": null,
   "outputs": [],
   "source": [
    "model_names = list()\n",
    "for model_num in range(1, 3):\n",
    "    for top_k in range(1, 4):\n",
    "        model_names.append(f\"B{model_num}, Top_k:{top_k}\")\n",
    "\n",
    "print(\"Average cosine similarity:\\n\")\n",
    "for model_name, result in zip(model_names, results):\n",
    "    result_print(model_name, result_df)"
   ],
   "metadata": {
    "collapsed": false
   }
  }
 ],
 "metadata": {
  "kernelspec": {
   "display_name": "Python 3 (ipykernel)",
   "language": "python",
   "name": "python3"
  },
  "language_info": {
   "codemirror_mode": {
    "name": "ipython",
    "version": 3
   },
   "file_extension": ".py",
   "mimetype": "text/x-python",
   "name": "python",
   "nbconvert_exporter": "python",
   "pygments_lexer": "ipython3",
   "version": "3.10.8"
  }
 },
 "nbformat": 4,
 "nbformat_minor": 1
}
