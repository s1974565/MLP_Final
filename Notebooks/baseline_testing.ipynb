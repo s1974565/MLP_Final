{
 "cells": [
  {
   "cell_type": "code",
   "execution_count": 1,
   "metadata": {},
   "outputs": [],
   "source": [
    "import pickle\n",
    "import pandas as pd\n",
    "import numpy as np\n",
    "import torch\n",
    "\n",
    "# Helpers\n",
    "from testing import *\n",
    "# Baseline model 1\n",
    "from transformers import RobertaTokenizer, RobertaForMaskedLM, pipeline\n",
    "\n",
    "# Check if GPU acceleration is available\n",
    "if torch.cuda.is_available():\n",
    "    device_num = torch.cuda.current_device()\n",
    "else:\n",
    "    # CPU\n",
    "    device_num = -1"
   ]
  },
  {
   "cell_type": "code",
   "execution_count": 2,
   "metadata": {},
   "outputs": [],
   "source": [
    "# Run this if you removed pickle files\n",
    "# saving_pickles()\n",
    "\n",
    "train_df, valid_df, test_df = loading_pickles()"
   ]
  },
  {
   "cell_type": "code",
   "execution_count": 3,
   "metadata": {},
   "outputs": [],
   "source": [
    "# Constants (for testing)\n",
    "\n",
    "mask_prob = 0.5\n",
    "window_size = 100\n",
    "batch_size = 50\n",
    "# Changing this may lead to different masking result. Do not change unless necessary.\n",
    "rng_seed = 42\n",
    "\n",
    "# Using only a portion of the validation dataset for performance\n",
    "size_limit_proportion_valid = 0.5"
   ]
  },
  {
   "cell_type": "code",
   "execution_count": 4,
   "metadata": {},
   "outputs": [
    {
     "data": {
      "text/plain": "Masking:   0%|          | 0/11553 [00:00<?, ?it/s]",
      "application/vnd.jupyter.widget-view+json": {
       "version_major": 2,
       "version_minor": 0,
       "model_id": "34505f48200a4b969cc38e021f6eedb9"
      }
     },
     "metadata": {},
     "output_type": "display_data"
    }
   ],
   "source": [
    "valid_df_size = int(len(valid_df) * size_limit_proportion_valid)\n",
    "masked_code_df = mask_variable_df(valid_df[:valid_df_size], mask_prob=mask_prob, rng_seed=rng_seed)\n",
    "merged_code_df = pd.concat([valid_df[:valid_df_size], masked_code_df], axis=\"columns\")"
   ]
  },
  {
   "cell_type": "markdown",
   "metadata": {},
   "source": [
    "### Baseline model 1\n",
    "\n",
    "Source: https://huggingface.co/microsoft/codebert-base-mlm\n",
    "As stated in https://github.com/microsoft/CodeBERT, the basic CodeBERT is not suitable for filling-mask task."
   ]
  },
  {
   "cell_type": "code",
   "execution_count": 5,
   "metadata": {},
   "outputs": [],
   "source": [
    "model_b1 = RobertaForMaskedLM.from_pretrained('microsoft/codebert-base-mlm')\n",
    "tokenizer_b1 = RobertaTokenizer.from_pretrained('microsoft/codebert-base-mlm')\n",
    "fill_mask_b1 = pipeline('fill-mask', model=model_b1, tokenizer=tokenizer_b1, device=device_num)"
   ]
  },
  {
   "cell_type": "code",
   "execution_count": null,
   "metadata": {
    "pycharm": {
     "is_executing": true
    }
   },
   "outputs": [
    {
     "name": "stdout",
     "output_type": "stream",
     "text": [
      "Top k = 1\n"
     ]
    },
    {
     "data": {
      "text/plain": "Window split:   0%|          | 0/11553 [00:00<?, ?it/s]",
      "application/vnd.jupyter.widget-view+json": {
       "version_major": 2,
       "version_minor": 0,
       "model_id": "1430d6194e3d4b97881734607e768132"
      }
     },
     "metadata": {},
     "output_type": "display_data"
    }
   ],
   "source": [
    "# This may cause exceptions in the following situations:\n",
    "# 1. The given input size is bigger than the maximum model input. Reduce the window_size.\n",
    "# 2. There is not enough GPU memory. Reduce the batch_size.\n",
    "print(\"Top k = 1\")\n",
    "b1_result_k1 = model_test(merged_code_df=merged_code_df, unmasker=fill_mask_b1, top_k=1, window_size=window_size, batch_size=batch_size)\n",
    "print(\"Top k = 2\")\n",
    "b1_result_k2 = model_test(merged_code_df=merged_code_df, unmasker=fill_mask_b1, top_k=2, window_size=window_size, batch_size=batch_size)\n",
    "print(\"Top k = 3\")\n",
    "b1_result_k3 = model_test(merged_code_df=merged_code_df, unmasker=fill_mask_b1, top_k=3, window_size=window_size, batch_size=batch_size)"
   ]
  },
  {
   "cell_type": "code",
   "execution_count": null,
   "metadata": {
    "pycharm": {
     "is_executing": true
    }
   },
   "outputs": [],
   "source": [
    "# Commented out to prevent accidentally overwriting these files.\n",
    "\n",
    "# with open(\"./baseline_results/b1_result_k1.pickle\", \"wb\") as fw:\n",
    "#     pickle.dump(b1_result_k1, fw)\n",
    "#\n",
    "# with open(\"./baseline_results/b1_result_k2.pickle\", \"wb\") as fw:\n",
    "#     pickle.dump(b1_result_k2, fw)\n",
    "#\n",
    "# with open(\"./baseline_results/b1_result_k3.pickle\", \"wb\") as fw:\n",
    "#     pickle.dump(b1_result_k3, fw)"
   ]
  },
  {
   "cell_type": "markdown",
   "metadata": {},
   "source": [
    "### Baseline model 2\n",
    "\n",
    "https://huggingface.co/docs/transformers/model_doc/roberta#transformers.RobertaForMaskedLM"
   ]
  },
  {
   "cell_type": "code",
   "execution_count": null,
   "metadata": {
    "pycharm": {
     "is_executing": true
    }
   },
   "outputs": [],
   "source": [
    "# save the baseline 2 results here\n",
    "\n",
    "model_b2 = RobertaForMaskedLM.from_pretrained('roberta-base')\n",
    "tokenizer_b2 = RobertaTokenizer.from_pretrained('roberta-base')\n",
    "fill_mask_b2 = pipeline('fill-mask', model=model_b2, tokenizer=tokenizer_b2, device=device_num)"
   ]
  },
  {
   "cell_type": "code",
   "execution_count": null,
   "metadata": {
    "pycharm": {
     "is_executing": true
    }
   },
   "outputs": [],
   "source": [
    "# This may cause exceptions in the following situations:\n",
    "# 1. The given input size is bigger than the maximum model input. Reduce the window_size.\n",
    "# 2. There is not enough GPU memory. Reduce the batch_size.\n",
    "print(\"Top k = 1\")\n",
    "b2_result_k1 = model_test(merged_code_df=merged_code_df, unmasker=fill_mask_b2, top_k=1, window_size=window_size, batch_size=batch_size)\n",
    "print(\"Top k = 2\")\n",
    "b2_result_k2 = model_test(merged_code_df=merged_code_df, unmasker=fill_mask_b2, top_k=2, window_size=window_size, batch_size=batch_size)\n",
    "print(\"Top k = 3\")\n",
    "b2_result_k3 = model_test(merged_code_df=merged_code_df, unmasker=fill_mask_b2, top_k=3, window_size=window_size, batch_size=batch_size)"
   ]
  },
  {
   "cell_type": "code",
   "execution_count": null,
   "metadata": {
    "pycharm": {
     "is_executing": true
    }
   },
   "outputs": [],
   "source": [
    "# Commented out to prevent accidentally overwriting these files.\n",
    "\n",
    "# with open(\"./baseline_results/b2_result_k1.pickle\", \"wb\") as fw:\n",
    "#     pickle.dump(b2_result_k1, fw)\n",
    "#\n",
    "# with open(\"./baseline_results/b2_result_k2.pickle\", \"wb\") as fw:\n",
    "#     pickle.dump(b2_result_k2, fw)\n",
    "#\n",
    "# with open(\"./baseline_results/b2_result_k3.pickle\", \"wb\") as fw:\n",
    "#     pickle.dump(b2_result_k3, fw)"
   ]
  },
  {
   "cell_type": "markdown",
   "metadata": {},
   "source": [
    "### Testing"
   ]
  },
  {
   "cell_type": "code",
   "execution_count": null,
   "metadata": {
    "pycharm": {
     "is_executing": true
    }
   },
   "outputs": [],
   "source": [
    "b1_result_k1 = pd.read_pickle(\"./baseline_results/b1_result_k1.pickle\")\n",
    "b1_result_k2 = pd.read_pickle(\"./baseline_results/b1_result_k2.pickle\")\n",
    "b1_result_k3 = pd.read_pickle(\"./baseline_results/b1_result_k3.pickle\")\n",
    "b2_result_k1 = pd.read_pickle(\"./baseline_results/b2_result_k1.pickle\")\n",
    "b2_result_k2 = pd.read_pickle(\"./baseline_results/b2_result_k2.pickle\")\n",
    "b2_result_k3 = pd.read_pickle(\"./baseline_results/b2_result_k3.pickle\")\n",
    "\n",
    "results = [b1_result_k1, b1_result_k2, b1_result_k3, b2_result_k1, b2_result_k2, b2_result_k3]"
   ]
  },
  {
   "cell_type": "code",
   "execution_count": null,
   "metadata": {
    "pycharm": {
     "is_executing": true
    }
   },
   "outputs": [],
   "source": [
    "def result_print(model_name, result_df):\n",
    "    print(f\"{model_name}: {np.mean(result_df['similarity'])}\")"
   ]
  },
  {
   "cell_type": "code",
   "execution_count": null,
   "metadata": {
    "pycharm": {
     "is_executing": true
    }
   },
   "outputs": [],
   "source": [
    "model_names = list()\n",
    "for model_num in range(1, 3):\n",
    "    for top_k in range(1, 4):\n",
    "        model_names.append(f\"B{model_num}, Top_k:{top_k}\")\n",
    "\n",
    "print(\"Average cosine similarity:\")\n",
    "for model_name, result in zip(model_names, results):\n",
    "    result_print(model_name, result)"
   ]
  },
  {
   "cell_type": "code",
   "execution_count": null,
   "metadata": {},
   "outputs": [],
   "source": []
  }
 ],
 "metadata": {
  "kernelspec": {
   "display_name": "Python 3 (ipykernel)",
   "language": "python",
   "name": "python3"
  },
  "language_info": {
   "codemirror_mode": {
    "name": "ipython",
    "version": 3
   },
   "file_extension": ".py",
   "mimetype": "text/x-python",
   "name": "python",
   "nbconvert_exporter": "python",
   "pygments_lexer": "ipython3",
   "version": "3.10.9"
  }
 },
 "nbformat": 4,
 "nbformat_minor": 1
}
