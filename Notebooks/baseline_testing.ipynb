{
 "cells": [
  {
   "cell_type": "code",
   "execution_count": 1,
   "metadata": {},
   "outputs": [],
   "source": [
    "import pickle\n",
    "import pandas as pd\n",
    "import numpy as np\n",
    "import torch\n",
    "\n",
    "# Helpers\n",
    "from testing import *\n",
    "# Baseline model 1\n",
    "from transformers import RobertaTokenizer, RobertaForMaskedLM, pipeline\n",
    "\n",
    "# Check if GPU acceleration is available\n",
    "if torch.cuda.is_available():\n",
    "    device_num = torch.cuda.current_device()\n",
    "else:\n",
    "    # CPU\n",
    "    device_num = -1"
   ]
  },
  {
   "cell_type": "code",
   "execution_count": 2,
   "metadata": {},
   "outputs": [],
   "source": [
    "# Run this if you removed pickle files\n",
    "# saving_pickles()\n",
    "\n",
    "train_df, valid_df, test_df = loading_pickles()"
   ]
  },
  {
   "cell_type": "code",
   "execution_count": 3,
   "metadata": {},
   "outputs": [],
   "source": [
    "# Constants (Do not change unless necessary)\n",
    "\n",
    "mask_prob = 0.5\n",
    "window_size = 100\n",
    "batch_size = 50\n",
    "rng_seed = 42\n",
    "size_proportion_valid = 0.05\n",
    "shuffle = True"
   ]
  },
  {
   "cell_type": "code",
   "execution_count": 4,
   "outputs": [
    {
     "data": {
      "text/plain": "Masking:   0%|          | 0/1155 [00:00<?, ?it/s]",
      "application/vnd.jupyter.widget-view+json": {
       "version_major": 2,
       "version_minor": 0,
       "model_id": "647814d45f724107bb36176df7acecbe"
      }
     },
     "metadata": {},
     "output_type": "display_data"
    }
   ],
   "source": [
    "valid_df_size = int(len(valid_df) * size_proportion_valid)\n",
    "\n",
    "if shuffle:\n",
    "    valid_df = valid_df.sample(frac=1, random_state=rng_seed).reset_index(drop=True)\n",
    "\n",
    "masked_code_df = mask_variable_df(valid_df[:valid_df_size], mask_prob=mask_prob, rng_seed=rng_seed)\n",
    "merged_code_df = pd.concat([valid_df[:valid_df_size], masked_code_df], axis=\"columns\")"
   ],
   "metadata": {
    "collapsed": false
   }
  },
  {
   "cell_type": "markdown",
   "metadata": {},
   "source": [
    "### Baseline model 1\n",
    "\n",
    "Source: https://huggingface.co/microsoft/codebert-base-mlm\n",
    "As stated in https://github.com/microsoft/CodeBERT, the basic CodeBERT is not suitable for filling-mask task."
   ]
  },
  {
   "cell_type": "code",
   "execution_count": 5,
   "metadata": {},
   "outputs": [],
   "source": [
    "model_b1 = RobertaForMaskedLM.from_pretrained('microsoft/codebert-base-mlm')\n",
    "tokenizer_b1 = RobertaTokenizer.from_pretrained('microsoft/codebert-base-mlm')\n",
    "fill_mask_b1 = pipeline('fill-mask', model=model_b1, tokenizer=tokenizer_b1, device=device_num)"
   ]
  },
  {
   "cell_type": "code",
   "execution_count": 6,
   "metadata": {},
   "outputs": [
    {
     "name": "stdout",
     "output_type": "stream",
     "text": [
      "Top k = 1\n"
     ]
    },
    {
     "data": {
      "text/plain": "Window split:   0%|          | 0/1155 [00:00<?, ?it/s]",
      "application/vnd.jupyter.widget-view+json": {
       "version_major": 2,
       "version_minor": 0,
       "model_id": "2c31ee51e17f46b596782de666e61c7b"
      }
     },
     "metadata": {},
     "output_type": "display_data"
    },
    {
     "data": {
      "text/plain": "Prediction:   0%|          | 0/3244 [00:00<?, ?it/s]",
      "application/vnd.jupyter.widget-view+json": {
       "version_major": 2,
       "version_minor": 0,
       "model_id": "af70c48da625491ba0955545a45a9fe2"
      }
     },
     "metadata": {},
     "output_type": "display_data"
    },
    {
     "data": {
      "text/plain": "Similarity:   0%|          | 0/3244 [00:00<?, ?it/s]",
      "application/vnd.jupyter.widget-view+json": {
       "version_major": 2,
       "version_minor": 0,
       "model_id": "0b69e84cb1b446188fa9887f529c500f"
      }
     },
     "metadata": {},
     "output_type": "display_data"
    },
    {
     "name": "stdout",
     "output_type": "stream",
     "text": [
      "Top k = 2\n"
     ]
    },
    {
     "data": {
      "text/plain": "Window split:   0%|          | 0/1155 [00:00<?, ?it/s]",
      "application/vnd.jupyter.widget-view+json": {
       "version_major": 2,
       "version_minor": 0,
       "model_id": "a2950dcdcdca407cba065c5410e8d82b"
      }
     },
     "metadata": {},
     "output_type": "display_data"
    },
    {
     "data": {
      "text/plain": "Prediction:   0%|          | 0/3244 [00:00<?, ?it/s]",
      "application/vnd.jupyter.widget-view+json": {
       "version_major": 2,
       "version_minor": 0,
       "model_id": "cabc56638f9b400cb2ebe0a393153944"
      }
     },
     "metadata": {},
     "output_type": "display_data"
    },
    {
     "data": {
      "text/plain": "Similarity:   0%|          | 0/3244 [00:00<?, ?it/s]",
      "application/vnd.jupyter.widget-view+json": {
       "version_major": 2,
       "version_minor": 0,
       "model_id": "49b70be95d7c4bbe8dd378ba7d85c68f"
      }
     },
     "metadata": {},
     "output_type": "display_data"
    },
    {
     "name": "stdout",
     "output_type": "stream",
     "text": [
      "Top k = 3\n"
     ]
    },
    {
     "data": {
      "text/plain": "Window split:   0%|          | 0/1155 [00:00<?, ?it/s]",
      "application/vnd.jupyter.widget-view+json": {
       "version_major": 2,
       "version_minor": 0,
       "model_id": "924fa759686145398776154c929f75d5"
      }
     },
     "metadata": {},
     "output_type": "display_data"
    },
    {
     "data": {
      "text/plain": "Prediction:   0%|          | 0/3244 [00:00<?, ?it/s]",
      "application/vnd.jupyter.widget-view+json": {
       "version_major": 2,
       "version_minor": 0,
       "model_id": "83a3739796af4814b0b0e0298f86ac51"
      }
     },
     "metadata": {},
     "output_type": "display_data"
    },
    {
     "data": {
      "text/plain": "Similarity:   0%|          | 0/3244 [00:00<?, ?it/s]",
      "application/vnd.jupyter.widget-view+json": {
       "version_major": 2,
       "version_minor": 0,
       "model_id": "4534269433b442dda9eb60aeb41f9e4b"
      }
     },
     "metadata": {},
     "output_type": "display_data"
    }
   ],
   "source": [
    "# This may cause exceptions in the following situations:\n",
    "# 1. The given input size is bigger than the maximum model input. Reduce the window_size.\n",
    "# 2. There is not enough GPU memory. Reduce the batch_size.\n",
    "print(\"Top k = 1\")\n",
    "b1_result_k1 = model_test(merged_code_df=merged_code_df, unmasker=fill_mask_b1, top_k=1, window_size=window_size, batch_size=batch_size)\n",
    "print(\"Top k = 2\")\n",
    "b1_result_k2 = model_test(merged_code_df=merged_code_df, unmasker=fill_mask_b1, top_k=2, window_size=window_size, batch_size=batch_size)\n",
    "print(\"Top k = 3\")\n",
    "b1_result_k3 = model_test(merged_code_df=merged_code_df, unmasker=fill_mask_b1, top_k=3, window_size=window_size, batch_size=batch_size)"
   ]
  },
  {
   "cell_type": "code",
   "execution_count": 7,
   "metadata": {},
   "outputs": [],
   "source": [
    "# Commented out to prevent accidentally overwriting these files.\n",
    "\n",
    "# with open(\"./baseline_results/b1_result_k1.pickle\", \"wb\") as fw:\n",
    "#     pickle.dump(b1_result_k1, fw)\n",
    "#\n",
    "# with open(\"./baseline_results/b1_result_k2.pickle\", \"wb\") as fw:\n",
    "#     pickle.dump(b1_result_k2, fw)\n",
    "#\n",
    "# with open(\"./baseline_results/b1_result_k3.pickle\", \"wb\") as fw:\n",
    "#     pickle.dump(b1_result_k3, fw)"
   ]
  },
  {
   "cell_type": "markdown",
   "metadata": {},
   "source": [
    "### Baseline model 2\n",
    "\n",
    "https://huggingface.co/docs/transformers/model_doc/roberta#transformers.RobertaForMaskedLM"
   ]
  },
  {
   "cell_type": "code",
   "execution_count": 8,
   "metadata": {},
   "outputs": [],
   "source": [
    "model_b2 = RobertaForMaskedLM.from_pretrained('roberta-base')\n",
    "tokenizer_b2 = RobertaTokenizer.from_pretrained('roberta-base')\n",
    "fill_mask_b2 = pipeline('fill-mask', model=model_b2, tokenizer=tokenizer_b2, device=device_num)"
   ]
  },
  {
   "cell_type": "code",
   "execution_count": 9,
   "metadata": {},
   "outputs": [
    {
     "name": "stdout",
     "output_type": "stream",
     "text": [
      "Top k = 1\n"
     ]
    },
    {
     "data": {
      "text/plain": "Window split:   0%|          | 0/1155 [00:00<?, ?it/s]",
      "application/vnd.jupyter.widget-view+json": {
       "version_major": 2,
       "version_minor": 0,
       "model_id": "c1def8d6e7324da89a2ea5babe2ecd9c"
      }
     },
     "metadata": {},
     "output_type": "display_data"
    },
    {
     "data": {
      "text/plain": "Prediction:   0%|          | 0/3244 [00:00<?, ?it/s]",
      "application/vnd.jupyter.widget-view+json": {
       "version_major": 2,
       "version_minor": 0,
       "model_id": "a353d4891565407c8835fbec414d3fc4"
      }
     },
     "metadata": {},
     "output_type": "display_data"
    },
    {
     "data": {
      "text/plain": "Similarity:   0%|          | 0/3244 [00:00<?, ?it/s]",
      "application/vnd.jupyter.widget-view+json": {
       "version_major": 2,
       "version_minor": 0,
       "model_id": "9dc7076a67f745acaa9f58d3c8ec0f82"
      }
     },
     "metadata": {},
     "output_type": "display_data"
    },
    {
     "name": "stdout",
     "output_type": "stream",
     "text": [
      "Top k = 2\n"
     ]
    },
    {
     "data": {
      "text/plain": "Window split:   0%|          | 0/1155 [00:00<?, ?it/s]",
      "application/vnd.jupyter.widget-view+json": {
       "version_major": 2,
       "version_minor": 0,
       "model_id": "aa6e19484eee44cb84a9333b772e0647"
      }
     },
     "metadata": {},
     "output_type": "display_data"
    },
    {
     "data": {
      "text/plain": "Prediction:   0%|          | 0/3244 [00:00<?, ?it/s]",
      "application/vnd.jupyter.widget-view+json": {
       "version_major": 2,
       "version_minor": 0,
       "model_id": "eca028b14ee64801b76f10ea51987008"
      }
     },
     "metadata": {},
     "output_type": "display_data"
    },
    {
     "data": {
      "text/plain": "Similarity:   0%|          | 0/3244 [00:00<?, ?it/s]",
      "application/vnd.jupyter.widget-view+json": {
       "version_major": 2,
       "version_minor": 0,
       "model_id": "b9e721afd5ac4baab26f254a9cadc0b8"
      }
     },
     "metadata": {},
     "output_type": "display_data"
    },
    {
     "name": "stdout",
     "output_type": "stream",
     "text": [
      "Top k = 3\n"
     ]
    },
    {
     "data": {
      "text/plain": "Window split:   0%|          | 0/1155 [00:00<?, ?it/s]",
      "application/vnd.jupyter.widget-view+json": {
       "version_major": 2,
       "version_minor": 0,
       "model_id": "8f044b033e464a6383197c957f609ca5"
      }
     },
     "metadata": {},
     "output_type": "display_data"
    },
    {
     "data": {
      "text/plain": "Prediction:   0%|          | 0/3244 [00:00<?, ?it/s]",
      "application/vnd.jupyter.widget-view+json": {
       "version_major": 2,
       "version_minor": 0,
       "model_id": "5fc663d78cfc41fd99d15fa80cb58545"
      }
     },
     "metadata": {},
     "output_type": "display_data"
    },
    {
     "data": {
      "text/plain": "Similarity:   0%|          | 0/3244 [00:00<?, ?it/s]",
      "application/vnd.jupyter.widget-view+json": {
       "version_major": 2,
       "version_minor": 0,
       "model_id": "015759599b634dbf803df5260fc67f96"
      }
     },
     "metadata": {},
     "output_type": "display_data"
    }
   ],
   "source": [
    "# This may cause exceptions in the following situations:\n",
    "# 1. The given input size is bigger than the maximum model input. Reduce the window_size.\n",
    "# 2. There is not enough GPU memory. Reduce the batch_size.\n",
    "print(\"Top k = 1\")\n",
    "b2_result_k1 = model_test(merged_code_df=merged_code_df, unmasker=fill_mask_b2, top_k=1, window_size=window_size, batch_size=batch_size)\n",
    "print(\"Top k = 2\")\n",
    "b2_result_k2 = model_test(merged_code_df=merged_code_df, unmasker=fill_mask_b2, top_k=2, window_size=window_size, batch_size=batch_size)\n",
    "print(\"Top k = 3\")\n",
    "b2_result_k3 = model_test(merged_code_df=merged_code_df, unmasker=fill_mask_b2, top_k=3, window_size=window_size, batch_size=batch_size)"
   ]
  },
  {
   "cell_type": "code",
   "execution_count": 10,
   "metadata": {},
   "outputs": [],
   "source": [
    "# Commented out to prevent accidentally overwriting these files.\n",
    "\n",
    "# with open(\"./baseline_results/b2_result_k1.pickle\", \"wb\") as fw:\n",
    "#     pickle.dump(b2_result_k1, fw)\n",
    "#\n",
    "# with open(\"./baseline_results/b2_result_k2.pickle\", \"wb\") as fw:\n",
    "#     pickle.dump(b2_result_k2, fw)\n",
    "#\n",
    "# with open(\"./baseline_results/b2_result_k3.pickle\", \"wb\") as fw:\n",
    "#     pickle.dump(b2_result_k3, fw)"
   ]
  },
  {
   "cell_type": "markdown",
   "metadata": {},
   "source": [
    "### Testing"
   ]
  },
  {
   "cell_type": "code",
   "execution_count": 11,
   "metadata": {},
   "outputs": [],
   "source": [
    "b1_result_k1 = pd.read_pickle(\"./baseline_results/b1_result_k1.pickle\")\n",
    "b1_result_k2 = pd.read_pickle(\"./baseline_results/b1_result_k2.pickle\")\n",
    "b1_result_k3 = pd.read_pickle(\"./baseline_results/b1_result_k3.pickle\")\n",
    "b2_result_k1 = pd.read_pickle(\"./baseline_results/b2_result_k1.pickle\")\n",
    "b2_result_k2 = pd.read_pickle(\"./baseline_results/b2_result_k2.pickle\")\n",
    "b2_result_k3 = pd.read_pickle(\"./baseline_results/b2_result_k3.pickle\")\n",
    "\n",
    "results = [b1_result_k1, b1_result_k2, b1_result_k3, b2_result_k1, b2_result_k2, b2_result_k3]"
   ]
  },
  {
   "cell_type": "code",
   "execution_count": 12,
   "metadata": {},
   "outputs": [],
   "source": [
    "def result_print(model_name, result_df):\n",
    "    print(f\"{model_name}: {np.mean(result_df['similarity'])}\")"
   ]
  },
  {
   "cell_type": "code",
   "execution_count": 13,
   "outputs": [
    {
     "name": "stdout",
     "output_type": "stream",
     "text": [
      "Average cosine similarity:\n",
      "B1, Top_1: 0.48087048530578613\n",
      "B1, Top_2: 0.4418424665927887\n",
      "B1, Top_3: 0.41088709235191345\n",
      "B2, Top_1: 0.4170977771282196\n",
      "B2, Top_2: 0.3793226480484009\n",
      "B2, Top_3: 0.3448489308357239\n"
     ]
    }
   ],
   "source": [
    "model_names = list()\n",
    "for model_num in range(1, 3):\n",
    "    for top_k in range(1, 4):\n",
    "        model_names.append(f\"B{model_num}, Top_{top_k}\")\n",
    "\n",
    "print(\"Average cosine similarity:\")\n",
    "for model_name, result in zip(model_names, results):\n",
    "    result_print(model_name, result)"
   ],
   "metadata": {
    "collapsed": false
   }
  },
  {
   "cell_type": "code",
   "execution_count": 14,
   "metadata": {},
   "outputs": [
    {
     "name": "stdout",
     "output_type": "stream",
     "text": [
      "Average cosine similarity:\n",
      "B1, Top_1: 0.4816761314868927\n",
      "B1, Top_2: 0.4399389326572418\n",
      "B1, Top_3: 0.4099189341068268\n",
      "B2, Top_1: 0.4274597764015198\n",
      "B2, Top_2: 0.3882227838039398\n",
      "B2, Top_3: 0.35679852962493896\n"
     ]
    }
   ],
   "source": [
    "# Result when the size proportion is 50% (When tested with the half of the dataset)\n",
    "\n",
    "# model_names = list()\n",
    "# for model_num in range(1, 3):\n",
    "#     for top_k in range(1, 4):\n",
    "#         model_names.append(f\"B{model_num}, Top_{top_k}\")\n",
    "#\n",
    "# print(\"Average cosine similarity:\")\n",
    "# for model_name, result in zip(model_names, results):\n",
    "#     result_print(model_name, result)"
   ]
  },
  {
   "cell_type": "code",
   "execution_count": null,
   "metadata": {},
   "outputs": [],
   "source": []
  }
 ],
 "metadata": {
  "kernelspec": {
   "display_name": "Python 3 (ipykernel)",
   "language": "python",
   "name": "python3"
  },
  "language_info": {
   "codemirror_mode": {
    "name": "ipython",
    "version": 3
   },
   "file_extension": ".py",
   "mimetype": "text/x-python",
   "name": "python",
   "nbconvert_exporter": "python",
   "pygments_lexer": "ipython3",
   "version": "3.10.9"
  }
 },
 "nbformat": 4,
 "nbformat_minor": 1
}
