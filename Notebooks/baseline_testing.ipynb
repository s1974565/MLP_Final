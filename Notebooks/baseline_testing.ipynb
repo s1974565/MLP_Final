{
 "cells": [
  {
   "cell_type": "code",
   "execution_count": 1,
   "metadata": {},
   "outputs": [],
   "source": [
    "import pickle\n",
    "import pandas as pd\n",
    "import numpy as np\n",
    "import torch\n",
    "\n",
    "# Helpers\n",
    "from testing import *\n",
    "# Baseline model 1\n",
    "from transformers import RobertaTokenizer, RobertaForMaskedLM, pipeline\n",
    "\n",
    "# Check if GPU acceleration is available\n",
    "if torch.cuda.is_available():\n",
    "    device_num = torch.cuda.current_device()\n",
    "else:\n",
    "    # CPU\n",
    "    device_num = -1"
   ]
  },
  {
   "cell_type": "code",
   "execution_count": 2,
   "metadata": {},
   "outputs": [],
   "source": [
    "# Run this if you removed pickle files\n",
    "# saving_pickles()\n",
    "\n",
    "train_df, valid_df, test_df = loading_pickles()"
   ]
  },
  {
   "cell_type": "code",
   "execution_count": 3,
   "metadata": {},
   "outputs": [],
   "source": [
    "# Constants (Do not change unless necessary)\n",
    "\n",
    "mask_prob = 0.5\n",
    "window_size = 100\n",
    "batch_size = 50\n",
    "rng_seed = 42\n",
    "size_proportion_valid = 0.5"
   ]
  },
  {
   "cell_type": "code",
   "execution_count": 4,
   "metadata": {},
   "outputs": [
    {
     "data": {
      "text/plain": "Masking:   0%|          | 0/11553 [00:00<?, ?it/s]",
      "application/vnd.jupyter.widget-view+json": {
       "version_major": 2,
       "version_minor": 0,
       "model_id": "34505f48200a4b969cc38e021f6eedb9"
      }
     },
     "metadata": {},
     "output_type": "display_data"
    }
   ],
   "source": [
    "valid_df_size = int(len(valid_df) * size_proportion_valid)\n",
    "masked_code_df = mask_variable_df(valid_df[:valid_df_size], mask_prob=mask_prob, rng_seed=rng_seed)\n",
    "merged_code_df = pd.concat([valid_df[:valid_df_size], masked_code_df], axis=\"columns\")"
   ]
  },
  {
   "cell_type": "markdown",
   "metadata": {},
   "source": [
    "### Baseline model 1\n",
    "\n",
    "Source: https://huggingface.co/microsoft/codebert-base-mlm\n",
    "As stated in https://github.com/microsoft/CodeBERT, the basic CodeBERT is not suitable for filling-mask task."
   ]
  },
  {
   "cell_type": "code",
   "execution_count": 5,
   "metadata": {},
   "outputs": [],
   "source": [
    "model_b1 = RobertaForMaskedLM.from_pretrained('microsoft/codebert-base-mlm')\n",
    "tokenizer_b1 = RobertaTokenizer.from_pretrained('microsoft/codebert-base-mlm')\n",
    "fill_mask_b1 = pipeline('fill-mask', model=model_b1, tokenizer=tokenizer_b1, device=device_num)"
   ]
  },
  {
   "cell_type": "code",
   "execution_count": 6,
   "metadata": {},
   "outputs": [
    {
     "name": "stdout",
     "output_type": "stream",
     "text": [
      "Top k = 1\n"
     ]
    },
    {
     "data": {
      "text/plain": "Window split:   0%|          | 0/11553 [00:00<?, ?it/s]",
      "application/vnd.jupyter.widget-view+json": {
       "version_major": 2,
       "version_minor": 0,
       "model_id": "1430d6194e3d4b97881734607e768132"
      }
     },
     "metadata": {},
     "output_type": "display_data"
    },
    {
     "data": {
      "text/plain": "Prediction:   0%|          | 0/34021 [00:00<?, ?it/s]",
      "application/vnd.jupyter.widget-view+json": {
       "version_major": 2,
       "version_minor": 0,
       "model_id": "ffb22e270c534ad284a79d498f31eced"
      }
     },
     "metadata": {},
     "output_type": "display_data"
    },
    {
     "data": {
      "text/plain": "Similarity:   0%|          | 0/34021 [00:00<?, ?it/s]",
      "application/vnd.jupyter.widget-view+json": {
       "version_major": 2,
       "version_minor": 0,
       "model_id": "65103491a4ad4a2d865ee3198154066e"
      }
     },
     "metadata": {},
     "output_type": "display_data"
    },
    {
     "name": "stdout",
     "output_type": "stream",
     "text": [
      "Top k = 2\n"
     ]
    },
    {
     "data": {
      "text/plain": "Window split:   0%|          | 0/11553 [00:00<?, ?it/s]",
      "application/vnd.jupyter.widget-view+json": {
       "version_major": 2,
       "version_minor": 0,
       "model_id": "06f4c2daf2b34246a356ba47515d51a2"
      }
     },
     "metadata": {},
     "output_type": "display_data"
    },
    {
     "data": {
      "text/plain": "Prediction:   0%|          | 0/34021 [00:00<?, ?it/s]",
      "application/vnd.jupyter.widget-view+json": {
       "version_major": 2,
       "version_minor": 0,
       "model_id": "51f6dcb2fc3a4d50a2b9d79e7d98fc42"
      }
     },
     "metadata": {},
     "output_type": "display_data"
    },
    {
     "data": {
      "text/plain": "Similarity:   0%|          | 0/34021 [00:00<?, ?it/s]",
      "application/vnd.jupyter.widget-view+json": {
       "version_major": 2,
       "version_minor": 0,
       "model_id": "0c96572aa6f04428a13df5b9dfae5cf1"
      }
     },
     "metadata": {},
     "output_type": "display_data"
    },
    {
     "name": "stdout",
     "output_type": "stream",
     "text": [
      "Top k = 3\n"
     ]
    },
    {
     "data": {
      "text/plain": "Window split:   0%|          | 0/11553 [00:00<?, ?it/s]",
      "application/vnd.jupyter.widget-view+json": {
       "version_major": 2,
       "version_minor": 0,
       "model_id": "a5f1a2464e774c35af42df6e2024fe66"
      }
     },
     "metadata": {},
     "output_type": "display_data"
    },
    {
     "data": {
      "text/plain": "Prediction:   0%|          | 0/34021 [00:00<?, ?it/s]",
      "application/vnd.jupyter.widget-view+json": {
       "version_major": 2,
       "version_minor": 0,
       "model_id": "44268bbcf49e469ca0bbcc3ff4085d71"
      }
     },
     "metadata": {},
     "output_type": "display_data"
    },
    {
     "data": {
      "text/plain": "Similarity:   0%|          | 0/34021 [00:00<?, ?it/s]",
      "application/vnd.jupyter.widget-view+json": {
       "version_major": 2,
       "version_minor": 0,
       "model_id": "d5eb6309953c4396bb322beebee71e3d"
      }
     },
     "metadata": {},
     "output_type": "display_data"
    }
   ],
   "source": [
    "# This may cause exceptions in the following situations:\n",
    "# 1. The given input size is bigger than the maximum model input. Reduce the window_size.\n",
    "# 2. There is not enough GPU memory. Reduce the batch_size.\n",
    "print(\"Top k = 1\")\n",
    "b1_result_k1 = model_test(merged_code_df=merged_code_df, unmasker=fill_mask_b1, top_k=1, window_size=window_size, batch_size=batch_size)\n",
    "print(\"Top k = 2\")\n",
    "b1_result_k2 = model_test(merged_code_df=merged_code_df, unmasker=fill_mask_b1, top_k=2, window_size=window_size, batch_size=batch_size)\n",
    "print(\"Top k = 3\")\n",
    "b1_result_k3 = model_test(merged_code_df=merged_code_df, unmasker=fill_mask_b1, top_k=3, window_size=window_size, batch_size=batch_size)"
   ]
  },
  {
   "cell_type": "code",
   "execution_count": 7,
   "metadata": {},
   "outputs": [],
   "source": [
    "# Commented out to prevent accidentally overwriting these files.\n",
    "\n",
    "# with open(\"./baseline_results/b1_result_k1.pickle\", \"wb\") as fw:\n",
    "#     pickle.dump(b1_result_k1, fw)\n",
    "#\n",
    "# with open(\"./baseline_results/b1_result_k2.pickle\", \"wb\") as fw:\n",
    "#     pickle.dump(b1_result_k2, fw)\n",
    "#\n",
    "# with open(\"./baseline_results/b1_result_k3.pickle\", \"wb\") as fw:\n",
    "#     pickle.dump(b1_result_k3, fw)"
   ]
  },
  {
   "cell_type": "markdown",
   "metadata": {},
   "source": [
    "### Baseline model 2\n",
    "\n",
    "https://huggingface.co/docs/transformers/model_doc/roberta#transformers.RobertaForMaskedLM"
   ]
  },
  {
   "cell_type": "code",
   "execution_count": 8,
   "metadata": {},
   "outputs": [
    {
     "data": {
      "text/plain": "Downloading:   0%|          | 0.00/481 [00:00<?, ?B/s]",
      "application/vnd.jupyter.widget-view+json": {
       "version_major": 2,
       "version_minor": 0,
       "model_id": "2743304a005b46ec834961c7094c43fa"
      }
     },
     "metadata": {},
     "output_type": "display_data"
    },
    {
     "data": {
      "text/plain": "Downloading:   0%|          | 0.00/501M [00:00<?, ?B/s]",
      "application/vnd.jupyter.widget-view+json": {
       "version_major": 2,
       "version_minor": 0,
       "model_id": "6c117ee0d0c74754878556bcbe13c018"
      }
     },
     "metadata": {},
     "output_type": "display_data"
    },
    {
     "data": {
      "text/plain": "Downloading:   0%|          | 0.00/899k [00:00<?, ?B/s]",
      "application/vnd.jupyter.widget-view+json": {
       "version_major": 2,
       "version_minor": 0,
       "model_id": "cdfeec2260844f2ca69d30c96ac79276"
      }
     },
     "metadata": {},
     "output_type": "display_data"
    },
    {
     "data": {
      "text/plain": "Downloading:   0%|          | 0.00/456k [00:00<?, ?B/s]",
      "application/vnd.jupyter.widget-view+json": {
       "version_major": 2,
       "version_minor": 0,
       "model_id": "e1353c501ff34d0b8e4d6683656833ac"
      }
     },
     "metadata": {},
     "output_type": "display_data"
    }
   ],
   "source": [
    "# save the baseline 2 results here\n",
    "\n",
    "model_b2 = RobertaForMaskedLM.from_pretrained('roberta-base')\n",
    "tokenizer_b2 = RobertaTokenizer.from_pretrained('roberta-base')\n",
    "fill_mask_b2 = pipeline('fill-mask', model=model_b2, tokenizer=tokenizer_b2, device=device_num)"
   ]
  },
  {
   "cell_type": "code",
   "execution_count": 9,
   "metadata": {},
   "outputs": [
    {
     "name": "stdout",
     "output_type": "stream",
     "text": [
      "Top k = 1\n"
     ]
    },
    {
     "data": {
      "text/plain": "Window split:   0%|          | 0/11553 [00:00<?, ?it/s]",
      "application/vnd.jupyter.widget-view+json": {
       "version_major": 2,
       "version_minor": 0,
       "model_id": "2820c6c0326f4152b4cd692b9c806e46"
      }
     },
     "metadata": {},
     "output_type": "display_data"
    },
    {
     "data": {
      "text/plain": "Prediction:   0%|          | 0/34021 [00:00<?, ?it/s]",
      "application/vnd.jupyter.widget-view+json": {
       "version_major": 2,
       "version_minor": 0,
       "model_id": "b971334fbec140fbbf4d74c1dd4bbe03"
      }
     },
     "metadata": {},
     "output_type": "display_data"
    },
    {
     "data": {
      "text/plain": "Similarity:   0%|          | 0/34021 [00:00<?, ?it/s]",
      "application/vnd.jupyter.widget-view+json": {
       "version_major": 2,
       "version_minor": 0,
       "model_id": "e98cdf1c7d0f4dc88bb4c4727bd404e7"
      }
     },
     "metadata": {},
     "output_type": "display_data"
    },
    {
     "name": "stdout",
     "output_type": "stream",
     "text": [
      "Top k = 2\n"
     ]
    },
    {
     "data": {
      "text/plain": "Window split:   0%|          | 0/11553 [00:00<?, ?it/s]",
      "application/vnd.jupyter.widget-view+json": {
       "version_major": 2,
       "version_minor": 0,
       "model_id": "a232486d183c4a229a46226e208cbb52"
      }
     },
     "metadata": {},
     "output_type": "display_data"
    },
    {
     "data": {
      "text/plain": "Prediction:   0%|          | 0/34021 [00:00<?, ?it/s]",
      "application/vnd.jupyter.widget-view+json": {
       "version_major": 2,
       "version_minor": 0,
       "model_id": "f9a67c772e83483990f81f156fe5f1d1"
      }
     },
     "metadata": {},
     "output_type": "display_data"
    },
    {
     "data": {
      "text/plain": "Similarity:   0%|          | 0/34021 [00:00<?, ?it/s]",
      "application/vnd.jupyter.widget-view+json": {
       "version_major": 2,
       "version_minor": 0,
       "model_id": "97c49c7830d344fe83ca204ded217468"
      }
     },
     "metadata": {},
     "output_type": "display_data"
    },
    {
     "name": "stdout",
     "output_type": "stream",
     "text": [
      "Top k = 3\n"
     ]
    },
    {
     "data": {
      "text/plain": "Window split:   0%|          | 0/11553 [00:00<?, ?it/s]",
      "application/vnd.jupyter.widget-view+json": {
       "version_major": 2,
       "version_minor": 0,
       "model_id": "ab006370dd834277a926edb070090ab1"
      }
     },
     "metadata": {},
     "output_type": "display_data"
    },
    {
     "data": {
      "text/plain": "Prediction:   0%|          | 0/34021 [00:00<?, ?it/s]",
      "application/vnd.jupyter.widget-view+json": {
       "version_major": 2,
       "version_minor": 0,
       "model_id": "3ac2dd9ca26445a4820af21fb571dc29"
      }
     },
     "metadata": {},
     "output_type": "display_data"
    },
    {
     "data": {
      "text/plain": "Similarity:   0%|          | 0/34021 [00:00<?, ?it/s]",
      "application/vnd.jupyter.widget-view+json": {
       "version_major": 2,
       "version_minor": 0,
       "model_id": "05771977c23e4e9eb5b45bad67609858"
      }
     },
     "metadata": {},
     "output_type": "display_data"
    }
   ],
   "source": [
    "# This may cause exceptions in the following situations:\n",
    "# 1. The given input size is bigger than the maximum model input. Reduce the window_size.\n",
    "# 2. There is not enough GPU memory. Reduce the batch_size.\n",
    "print(\"Top k = 1\")\n",
    "b2_result_k1 = model_test(merged_code_df=merged_code_df, unmasker=fill_mask_b2, top_k=1, window_size=window_size, batch_size=batch_size)\n",
    "print(\"Top k = 2\")\n",
    "b2_result_k2 = model_test(merged_code_df=merged_code_df, unmasker=fill_mask_b2, top_k=2, window_size=window_size, batch_size=batch_size)\n",
    "print(\"Top k = 3\")\n",
    "b2_result_k3 = model_test(merged_code_df=merged_code_df, unmasker=fill_mask_b2, top_k=3, window_size=window_size, batch_size=batch_size)"
   ]
  },
  {
   "cell_type": "code",
   "execution_count": 10,
   "metadata": {},
   "outputs": [],
   "source": [
    "# Commented out to prevent accidentally overwriting these files.\n",
    "\n",
    "# with open(\"./baseline_results/b2_result_k1.pickle\", \"wb\") as fw:\n",
    "#     pickle.dump(b2_result_k1, fw)\n",
    "#\n",
    "# with open(\"./baseline_results/b2_result_k2.pickle\", \"wb\") as fw:\n",
    "#     pickle.dump(b2_result_k2, fw)\n",
    "#\n",
    "# with open(\"./baseline_results/b2_result_k3.pickle\", \"wb\") as fw:\n",
    "#     pickle.dump(b2_result_k3, fw)"
   ]
  },
  {
   "cell_type": "markdown",
   "metadata": {},
   "source": [
    "### Testing"
   ]
  },
  {
   "cell_type": "code",
   "execution_count": 11,
   "metadata": {},
   "outputs": [],
   "source": [
    "b1_result_k1 = pd.read_pickle(\"./baseline_results/b1_result_k1.pickle\")\n",
    "b1_result_k2 = pd.read_pickle(\"./baseline_results/b1_result_k2.pickle\")\n",
    "b1_result_k3 = pd.read_pickle(\"./baseline_results/b1_result_k3.pickle\")\n",
    "b2_result_k1 = pd.read_pickle(\"./baseline_results/b2_result_k1.pickle\")\n",
    "b2_result_k2 = pd.read_pickle(\"./baseline_results/b2_result_k2.pickle\")\n",
    "b2_result_k3 = pd.read_pickle(\"./baseline_results/b2_result_k3.pickle\")\n",
    "\n",
    "results = [b1_result_k1, b1_result_k2, b1_result_k3, b2_result_k1, b2_result_k2, b2_result_k3]"
   ]
  },
  {
   "cell_type": "code",
   "execution_count": 12,
   "metadata": {},
   "outputs": [],
   "source": [
    "def result_print(model_name, result_df):\n",
    "    print(f\"{model_name}: {np.mean(result_df['similarity'])}\")"
   ]
  },
  {
   "cell_type": "code",
   "execution_count": 14,
   "metadata": {},
   "outputs": [
    {
     "name": "stdout",
     "output_type": "stream",
     "text": [
      "Average cosine similarity:\n",
      "B1, Top_1: 0.4816761314868927\n",
      "B1, Top_2: 0.4399389326572418\n",
      "B1, Top_3: 0.4099189341068268\n",
      "B2, Top_1: 0.4274597764015198\n",
      "B2, Top_2: 0.3882227838039398\n",
      "B2, Top_3: 0.35679852962493896\n"
     ]
    }
   ],
   "source": [
    "model_names = list()\n",
    "for model_num in range(1, 3):\n",
    "    for top_k in range(1, 4):\n",
    "        model_names.append(f\"B{model_num}, Top_{top_k}\")\n",
    "\n",
    "print(\"Average cosine similarity:\")\n",
    "for model_name, result in zip(model_names, results):\n",
    "    result_print(model_name, result)"
   ]
  },
  {
   "cell_type": "code",
   "execution_count": null,
   "metadata": {},
   "outputs": [],
   "source": []
  }
 ],
 "metadata": {
  "kernelspec": {
   "display_name": "Python 3 (ipykernel)",
   "language": "python",
   "name": "python3"
  },
  "language_info": {
   "codemirror_mode": {
    "name": "ipython",
    "version": 3
   },
   "file_extension": ".py",
   "mimetype": "text/x-python",
   "name": "python",
   "nbconvert_exporter": "python",
   "pygments_lexer": "ipython3",
   "version": "3.10.9"
  }
 },
 "nbformat": 4,
 "nbformat_minor": 1
}
